{
 "cells": [
  {
   "cell_type": "markdown",
   "metadata": {},
   "source": [
    "# <span style='font-family: CMU Sans Serif, sans-serif;'> Addressing missing data  </span> "
   ]
  },
  {
   "cell_type": "markdown",
   "metadata": {},
   "source": [
    "This notebook looks at the amount of missing data and tries to handle it correctly. The data was sourced from Wharton Research Data Services (WRDS) and produces by the Global Factor Data (GFD) team. Below we import the necessary packages for cleaning data."
   ]
  },
  {
   "cell_type": "code",
   "execution_count": 16,
   "metadata": {},
   "outputs": [],
   "source": [
    "import matplotlib.pyplot as plt\n",
    "import seaborn as sns\n",
    "import missingno as msno \n",
    "import pandas as pd\n",
    "import numpy as np\n",
    "import janitor"
   ]
  },
  {
   "cell_type": "markdown",
   "metadata": {},
   "source": [
    "Additionally some notebook setup is done below. Specifically we adjust the notebook width for better presentation of the data."
   ]
  },
  {
   "cell_type": "code",
   "execution_count": 17,
   "metadata": {},
   "outputs": [],
   "source": [
    "pd.set_option('display.max_columns', None)  # Show all columns\n",
    "pd.set_option('display.width', 0)  # Use full cell width\n",
    "pd.set_option('display.expand_frame_repr', False)  # Prevent line breaks"
   ]
  },
  {
   "cell_type": "markdown",
   "metadata": {},
   "source": [
    "# <span style='font-family: CMU Sans Serif, sans-serif;'> Loading data and supporting information  </span> "
   ]
  },
  {
   "cell_type": "markdown",
   "metadata": {},
   "source": [
    "Data was downloaded in `../data__collect.ipynb` and is here imported for cleaning."
   ]
  },
  {
   "cell_type": "code",
   "execution_count": 18,
   "metadata": {},
   "outputs": [],
   "source": [
    "# Define path to where the data is located\n",
    "dataPath = \"../data__collect/usa__gfd.parquet\"\n",
    "\n",
    "# Read data to raw data\n",
    "dataRawGfdUs = pd.read_parquet(dataPath)"
   ]
  },
  {
   "cell_type": "markdown",
   "metadata": {},
   "source": [
    "Besides importing data we also want information about the features provided by the GFD team. We import the label clusters and features details, which can also be used to determine basis and primary features."
   ]
  },
  {
   "cell_type": "code",
   "execution_count": 19,
   "metadata": {},
   "outputs": [],
   "source": [
    "# Raw URL to label clusters and details from GFD repo\n",
    "urlLabelClustersGfd = \"https://raw.githubusercontent.com/bkelly-lab/ReplicationCrisis/master/GlobalFactors/Cluster%20Labels.csv\"\n",
    "urlLabelDetailsGfd = \"https://raw.githubusercontent.com/bkelly-lab/ReplicationCrisis/master/GlobalFactors/Factor%20Details.xlsx\"\n",
    "\n",
    "# Read dataframes\n",
    "dataLabelClustersGfd = pd.read_csv(urlLabelClustersGfd)\n",
    "dataLabelDetailsGfd = pd.read_excel(urlLabelDetailsGfd)\n",
    "\n",
    "# Create list of primary characters\n",
    "listPrimaryFeatures = dataLabelClustersGfd['characteristic'].tolist()"
   ]
  },
  {
   "cell_type": "markdown",
   "metadata": {},
   "source": [
    "# <span style='font-family: CMU Sans Serif, sans-serif;'> Understanding data  </span>  "
   ]
  },
  {
   "cell_type": "markdown",
   "metadata": {},
   "source": [
    "## <span style='font-family: CMU Sans Serif, sans-serif;'> Data documentation  </span> "
   ]
  },
  {
   "cell_type": "markdown",
   "metadata": {},
   "source": [
    "The GFD-team provides documentation for their dataset. Below are relevant notes retaining to our dataset. The Global Factor Data includes 406 characteristics and their associated factor portfolios. This is a superset of 153 factors used in this analysis. \n",
    "\n",
    "This section pulls out relevant information from the documentation provided by the GFD-team. Below is a table showing the most important identifiers, where sources refers to either CRSP or Compustat. Information sourced from CRPS is prefixed with `crsp_` and information sourced from Compustat is prefixed with `comp_`."
   ]
  },
  {
   "cell_type": "markdown",
   "metadata": {},
   "source": [
    "| Variable | Description                           | Example     | Note                                                  |\n",
    "|----------|---------------------------------------|-------------|-------------------------------------------------------|\n",
    "| `id`     | Unique security x source identifier | `100144701.0` | This should be the variable we use to identify stocks. We should make it a string. |\n",
    "| `eom`    | End of month where the data is valid (information available at the end of the month)  | The `me` value for a stocks with `eom=20191231`, will be the last available market equity before or at December 31st 2019 | Should be used as time variable. |\n",
    "| `excntry` | the column that identifies the country of the exchange where the security is traded | `USA` | In our case this is always `USA` |"
   ]
  },
  {
   "cell_type": "markdown",
   "metadata": {},
   "source": [
    "In addition, we screened data in the SQL with the following"
   ]
  },
  {
   "cell_type": "markdown",
   "metadata": {},
   "source": [
    "| Screen            | Purpose                                                    |\n",
    "|-------------------|------------------------------------------------------------|\n",
    "| `obs_main = 1`    | Restrict sample to one observation per security x source per month. In cases of duplicate observations this ensures that only one observation (in this case from CRSP) is collected. |\n",
    "| `common = 1`      | Use only common stock.                                     |\n",
    "| `exch_main = 1`   | Use only prominent exchanges                               |\n",
    "| `primary_sec = 1` | Restrict sample to one primary listing each month.         |"
   ]
  },
  {
   "cell_type": "markdown",
   "metadata": {},
   "source": [
    "**This means that for each `id` (identifying the stock) and `eom` identifying the end of the month were we observed the value, we have one value.** As a sanity check we make sure that there is only one date for each observation for each month (`eom`). This is done below, and it confirms that we only have one date per stock per month."
   ]
  },
  {
   "cell_type": "code",
   "execution_count": 20,
   "metadata": {},
   "outputs": [
    {
     "data": {
      "text/plain": [
       "True"
      ]
     },
     "execution_count": 20,
     "metadata": {},
     "output_type": "execute_result"
    }
   ],
   "source": [
    "# Group by 'id' and 'eom' and count unique 'date'\n",
    "temp = dataRawGfdUs[['id', 'eom', 'date']].groupby(['id', 'eom']).nunique().reset_index()\n",
    "temp[temp['date'] != 1].empty"
   ]
  },
  {
   "cell_type": "markdown",
   "metadata": {},
   "source": [
    "## <span style='font-family: CMU Sans Serif, sans-serif;'> Data dictionary  </span> "
   ]
  },
  {
   "cell_type": "markdown",
   "metadata": {},
   "source": [
    "Before removing/imputation, transformation, feature engineering etc. we need to understand our data; how it is structured, what each variable tells us and its type, etc. To keep track of this we create a data dictionary. We are focused on the primary features (153) which are used to describe each firm, and the basis features (39) are generally less erroneous. \n",
    "\n",
    "We have 153 primary features and the rest are basis features. First we confirm that we have the 153 primary features and then how many basis features we have."
   ]
  },
  {
   "cell_type": "code",
   "execution_count": 21,
   "metadata": {},
   "outputs": [
    {
     "name": "stdout",
     "output_type": "stream",
     "text": [
      "Count basis features: 39\n",
      "Count primary features: 153\n",
      "Count of total observed features: 192\n"
     ]
    }
   ],
   "source": [
    "# Create list of observed primary features and basis features\n",
    "listObsPrimaryFeatures = [feature for feature in dataRawGfdUs.columns.tolist() if feature in listPrimaryFeatures]\n",
    "listObsBasisFeatures = [feature for feature in dataRawGfdUs.columns.tolist() if feature not in listPrimaryFeatures]\n",
    "\n",
    "# Count len of observed feature types\n",
    "intCountBasisFeatures = len(listObsBasisFeatures)\n",
    "intCountPrimaryFeatures = len(listObsPrimaryFeatures)\n",
    "\n",
    "# Print count \n",
    "print(f\"Count basis features: {intCountBasisFeatures}\")\n",
    "print(f\"Count primary features: {intCountPrimaryFeatures}\")\n",
    "print(f\"Count of total observed features: {dataRawGfdUs.shape[1]}\")"
   ]
  },
  {
   "cell_type": "markdown",
   "metadata": {},
   "source": [
    "We have the correct amount of features for each category. The data dictionary is now created."
   ]
  },
  {
   "cell_type": "code",
   "execution_count": null,
   "metadata": {},
   "outputs": [],
   "source": [
    "# Initialize dictionaries\n",
    "dictDataDescription = {}\n",
    "dictPrimaryDataDescription = {}\n",
    "dictBasisDataDescription = {}\n",
    "\n",
    "# Iterate through primary features and collect information\n",
    "for feat in listObsPrimaryFeatures:\n",
    "    description = dataLabelDetailsGfd[dataLabelDetailsGfd['abr_jkp'] == feat]['name_new']\n",
    "    example_value = dataRawGfdUs[feat].dropna().iloc[0] if not dataRawGfdUs[feat].dropna().empty else \"N/A\" \n",
    "    dictPrimaryDataDescription[feat] = {\n",
    "        \"Type\": dataRawGfdUs[feat].dtype,\n",
    "        \"Description\": description.values[0] if not description.empty else \"N/A\",\n",
    "        \"Range\": f\"[{round(dataRawGfdUs[feat].min(), 4)}, {round(dataRawGfdUs[feat].max(), 4)}]\" if pd.api.types.is_numeric_dtype(dataRawGfdUs[feat].dtype) else \"N/A\",\n",
    "        \"NaNs\": dataRawGfdUs[feat].isna().sum().item(),\n",
    "        \"Transformation\": \"None\",\n",
    "        \"Outlier handled (T/F)\": False,\n",
    "        \"Example\": example_value \n",
    "    }\n",
    "\n",
    "# Iterate through basis features\n",
    "for feat in listObsBasisFeatures:\n",
    "    description = dataLabelDetailsGfd[dataLabelDetailsGfd['abr_jkp'] == feat]['name_new']\n",
    "    example_value = dataRawGfdUs[feat].dropna().iloc[0] if not dataRawGfdUs[feat].dropna().empty else \"N/A\"  # Example (non-NaN) value\n",
    "    dictBasisDataDescription[feat] = {\n",
    "        \"Type\": dataRawGfdUs[feat].dtype,\n",
    "        \"Description\": description.values[0] if not description.empty else \"N/A\",\n",
    "        \"Range\": f\"[{round(dataRawGfdUs[feat].min(), 4)}, {round(dataRawGfdUs[feat].max(), 4)}]\" if pd.api.types.is_numeric_dtype(dataRawGfdUs[feat].dtype) else \"N/A\",\n",
    "        \"NaNs\": dataRawGfdUs[feat].isna().sum().item(),\n",
    "        \"Transformation\": \"None\",\n",
    "        \"Outlier handled (T/F)\": False,\n",
    "        \"Example\": example_value \n",
    "    }\n",
    "\n",
    "# Collect subdirectories\n",
    "dictDataDescription = {\n",
    "    \"Basis\": dictBasisDataDescription,\n",
    "    \"Primary\": dictPrimaryDataDescription\n",
    "}"
   ]
  },
  {
   "cell_type": "markdown",
   "metadata": {},
   "source": [
    "## <span style='font-family: CMU Sans Serif, sans-serif;'> Inspecting features  </span> "
   ]
  },
  {
   "cell_type": "markdown",
   "metadata": {},
   "source": [
    "### <span style='font-family: CMU Sans Serif, sans-serif;'> Addressing redundancy  </span> "
   ]
  },
  {
   "cell_type": "markdown",
   "metadata": {},
   "source": [
    "This is primarily concerned with the basis variables that aid in stock identification. First we look at all the identifying variables. This is done below."
   ]
  },
  {
   "cell_type": "code",
   "execution_count": 32,
   "metadata": {},
   "outputs": [
    {
     "name": "stdout",
     "output_type": "stream",
     "text": [
      "Key: gvkey                          dType: string                         Example: 001447\n",
      "Key: iid                            dType: string                         Example: 01\n",
      "Key: comp_exchg                     dType: Float64                        Example: 11.0\n",
      "Key: comp_tpci                      dType: string                         Example: 0\n",
      "Key: permco                         dType: Float64                        Example: 22156.0\n",
      "Key: permno                         dType: Float64                        Example: 10006.0\n",
      "Key: crsp_exchcd                    dType: Float64                        Example: 1.0\n",
      "Key: crsp_shrcd                     dType: Float64                        Example: 10.0\n",
      "Key: date                           dType: string                         Example: 1962-01-31\n",
      "Key: dolvol                         dType: Float64                        Example: 3172451.5375800002\n",
      "Key: eom                            dType: string                         Example: 1962-01-31\n",
      "Key: ret_exc                        dType: Float64                        Example: -0.04637179196063194\n",
      "Key: ret_exc_lead1m                 dType: Float64                        Example: 0.062273655866419\n",
      "Key: excntry                        dType: string                         Example: USA\n",
      "Key: fx                             dType: Float64                        Example: 1.0\n",
      "Key: ff49                           dType: Float64                        Example: 45.0\n",
      "Key: gics                           dType: Float64                        Example: 35201010.0\n",
      "Key: prc_high                       dType: Float64                        Example: 82.61991386\n",
      "Key: id                             dType: Float64                        Example: 100144701.0\n",
      "Key: common                         dType: Float64                        Example: 1.0\n",
      "Key: exch_main                      dType: Float64                        Example: 1.0\n",
      "Key: obs_main                       dType: Float64                        Example: 1.0\n",
      "Key: bidask                         dType: Float64                        Example: 0.0\n",
      "Key: primary_sec                    dType: Float64                        Example: 1.0\n",
      "Key: source_crsp                    dType: Float64                        Example: 0.0\n",
      "Key: curcd                          dType: string                         Example: USD\n",
      "Key: prc_low                        dType: Float64                        Example: 70.63491445\n",
      "Key: me                             dType: Float64                        Example: 372.72238356076656\n",
      "Key: me_company                     dType: Float64                        Example: 372.72238356076656\n",
      "Key: ret_lag_dif                    dType: Float64                        Example: 1.0\n",
      "Key: naics                          dType: Float64                        Example: 221210.0\n",
      "Key: tvol                           dType: Float64                        Example: 39000.0\n",
      "Key: prc_local                      dType: Float64                        Example: 81.34491122\n",
      "Key: adjfct                         dType: Float64                        Example: 107.99727084\n",
      "Key: shares                         dType: Float64                        Example: 4.461\n",
      "Key: sic                            dType: Float64                        Example: 6111.0\n",
      "Key: size_grp                       dType: string                         Example: mega\n",
      "Key: ret_local                      dType: Float64                        Example: -0.04385979196063194\n",
      "Key: ret                            dType: Float64                        Example: -0.04385979196063194\n"
     ]
    }
   ],
   "source": [
    "for key, val in dictDataDescription['Basis'].items():\n",
    "    print(f\"Key: {key.ljust(30)} dType: {str(val['Type']).ljust(30)} Example: {val['Example']}\")"
   ]
  },
  {
   "cell_type": "markdown",
   "metadata": {},
   "source": [
    "\n",
    "| Variable         | Description                              | Remove (Y/N) | Reason                                                 |\n",
    "|------------------|------------------------------------------|--------------|--------------------------------------------------------|\n",
    "| `gvkey`          | Firm identifier from Compustat           | Yes          | Do not need additional firm information from Compustat |\n",
    "| `id`             | Unique security id                       | No           | Primary security identifier                            |\n",
    "| `comp_exchg`     | Stock exchange code                      | Yes          | No need for exchange id in analysis                    |\n",
    "| `comp_tpci`      | Issue identifier                         | Yes          | No need for issue id in analysis                       |\n",
    "| `permco`         | Unique firm identifier from CRSP         | Yes          | No need for additional identifier in analysis          |\n",
    "| `permno`         | Unique security identifier from CRSP     | Yes          | No need for additional identifier in analysis          |\n",
    "| `crsp_exchcd`    | CRSP exchange identifier                 | Yes          | No need in analysis                                    |\n",
    "| `crsp_shrcd`     | CRSP share code                          | Yes          | No need in analysis                                    |\n",
    "| `date`           | Date value is observed                   | Yes          | We will use `eom` as temporal identifier               |\n",
    "| `dolvol`         | Dollar volume                            | No           | Relevant information                                   |\n",
    "| `eom`            | End of month                             | No           | Primary temporal variable                              |\n",
    "| `ret_exc`        | Excess return current month              | No           | Information to be used                                 |\n",
    "| `ret_exc_lead1m` | Excess return current next month         | No           | Primary dependent variable                             |\n",
    "| `excntry`        | Exchange country                         | No           | Not directly relevant, but nice to have                |\n",
    "| `fx`             | Local currency excahnge to USD           | No           | Relevant if we include multiple countries              |\n",
    "| `ff49`           | Industry classifier                      | No           | Relevant information                                   |\n",
    "| `gics`           | Firm GICS industry                       | No           | Relevant information                                   |\n",
    "| `prc_high`       | Highest daily price                      | No           | Relevant information                                   |\n",
    "| `iid`            | Two digit identifier to add to `gvkey`   | Yes          | Not Relevant information                               |\n",
    "| `common`         | Common stock identifier                  | Yes          | All are $1$ due to filter                              |\n",
    "| `exch_main`      | Prominent exchange identifier            | Yes          | All are $1$ due to filter                              |\n",
    "| `obs_main`       | Main observation identifier              | Yes          | All are $1$ due to filter                              |\n",
    "| `bidask`         | Indicator for if price is bid/ask avg.   | No           | Relevant information on how proce is calculated        |\n",
    "| `primary_sec`    | Primary sector identifier                | Yes          | All are $1$ due to filter                              |\n",
    "| `source_crsp`    | Identifies the source of the return data | Yes          | Not relevant where data is sourced                     |\n",
    "| `curcd`          | Currency                                 | Yes          | Currency is not relevant                               |\n",
    "| `prc_low`        | Lowest daily price                       | No           | Relevant information                                   |\n",
    "| `me`             | Market equity                            | No           | Relevant information                                   |\n",
    "| `me_company`     | Company market equity                    | No           | Relevant information                                   |\n",
    "| `ret_lag_dif`    | Time Since Most Recent Return            | No           | Relevant information                                   |\n",
    "| `naics`          | Firm NAICS industry                      | No           | Relevant information                                   |\n",
    "| `tvol`           | Trading volume                           | No           | Relevant information                                   |\n",
    "| `prc_local`      | Price local                              | Yes          | Not Relevant information                               |\n",
    "| `adjfct`         | Share Adjustment Factor                  | No           | Relevant information                                   |\n",
    "| `shares`         | Amount of shares                         | No           | Relevant information                                   |\n",
    "| `sic`            | Firm SIC industry                        | No           | Relevant information                                   |\n",
    "| `size_grp`       | Category of sizes                        | No           | Relevant information                                   |\n",
    "| `ret_local`      | Return local                             | No           | Relevant information                                   |\n",
    "| `ret`            | Return USD                               | No           | Relevant information                                   |\n"
   ]
  },
  {
   "cell_type": "markdown",
   "metadata": {},
   "source": [
    "These variables are removed below."
   ]
  },
  {
   "cell_type": "code",
   "execution_count": 2,
   "metadata": {},
   "outputs": [
    {
     "ename": "NameError",
     "evalue": "name 'dataRawGfdUs' is not defined",
     "output_type": "error",
     "traceback": [
      "\u001b[0;31m---------------------------------------------------------------------------\u001b[0m",
      "\u001b[0;31mNameError\u001b[0m                                 Traceback (most recent call last)",
      "Cell \u001b[0;32mIn[2], line 5\u001b[0m\n\u001b[1;32m      2\u001b[0m listBasisFeaturesDrop \u001b[38;5;241m=\u001b[39m [\u001b[38;5;124m\"\u001b[39m\u001b[38;5;124mgvkey\u001b[39m\u001b[38;5;124m\"\u001b[39m, \u001b[38;5;124m\"\u001b[39m\u001b[38;5;124mcomp_exchg\u001b[39m\u001b[38;5;124m\"\u001b[39m, \u001b[38;5;124m\"\u001b[39m\u001b[38;5;124mcomp_tpci\u001b[39m\u001b[38;5;124m\"\u001b[39m, \u001b[38;5;124m\"\u001b[39m\u001b[38;5;124mpermco\u001b[39m\u001b[38;5;124m\"\u001b[39m, \u001b[38;5;124m\"\u001b[39m\u001b[38;5;124mpermno\u001b[39m\u001b[38;5;124m\"\u001b[39m, \u001b[38;5;124m\"\u001b[39m\u001b[38;5;124mcrsp_exchcd\u001b[39m\u001b[38;5;124m\"\u001b[39m, \u001b[38;5;124m\"\u001b[39m\u001b[38;5;124mcrsp_shrcd\u001b[39m\u001b[38;5;124m\"\u001b[39m, \u001b[38;5;124m\"\u001b[39m\u001b[38;5;124mdate\u001b[39m\u001b[38;5;124m\"\u001b[39m, \u001b[38;5;124m\"\u001b[39m\u001b[38;5;124miid\u001b[39m\u001b[38;5;124m\"\u001b[39m, \u001b[38;5;124m\"\u001b[39m\u001b[38;5;124mcommon\u001b[39m\u001b[38;5;124m\"\u001b[39m, \u001b[38;5;124m\"\u001b[39m\u001b[38;5;124mexch_main\u001b[39m\u001b[38;5;124m\"\u001b[39m, \u001b[38;5;124m\"\u001b[39m\u001b[38;5;124mobs_main\u001b[39m\u001b[38;5;124m\"\u001b[39m, \u001b[38;5;124m\"\u001b[39m\u001b[38;5;124mprimary_sec\u001b[39m\u001b[38;5;124m\"\u001b[39m, \u001b[38;5;124m\"\u001b[39m\u001b[38;5;124msource_crsp\u001b[39m\u001b[38;5;124m\"\u001b[39m, \u001b[38;5;124m\"\u001b[39m\u001b[38;5;124mcurcd\u001b[39m\u001b[38;5;124m\"\u001b[39m, \u001b[38;5;124m\"\u001b[39m\u001b[38;5;124mprc_local\u001b[39m\u001b[38;5;124m\"\u001b[39m]\n\u001b[1;32m      4\u001b[0m \u001b[38;5;66;03m# Drop specified columns\u001b[39;00m\n\u001b[0;32m----> 5\u001b[0m dataGfdUs_v1_0 \u001b[38;5;241m=\u001b[39m \u001b[43mdataRawGfdUs\u001b[49m\u001b[38;5;241m.\u001b[39mdrop(columns \u001b[38;5;241m=\u001b[39m listBasisFeaturesDrop)\n",
      "\u001b[0;31mNameError\u001b[0m: name 'dataRawGfdUs' is not defined"
     ]
    }
   ],
   "source": [
    "# All features that should be dropped\n",
    "listBasisFeaturesDrop = [\"gvkey\", \"comp_exchg\", \"comp_tpci\", \"permco\", \"permno\", \"crsp_exchcd\", \"crsp_shrcd\", \"date\", \"iid\", \"common\", \"exch_main\", \"obs_main\", \"primary_sec\", \"source_crsp\", \"curcd\", \"prc_local\"]\n",
    "\n",
    "# Drop specified columns\n",
    "dataGfdUs_v1_0 = dataRawGfdUs.drop(columns = listBasisFeaturesDrop)"
   ]
  },
  {
   "cell_type": "markdown",
   "metadata": {},
   "source": [
    "### <span style='font-family: CMU Sans Serif, sans-serif;'> Correcting data types  </span> "
   ]
  },
  {
   "cell_type": "markdown",
   "metadata": {},
   "source": [
    "Below we make sure the all variables are of the correct type. First we inspect the observed data types for each feature."
   ]
  },
  {
   "cell_type": "markdown",
   "metadata": {},
   "source": [
    "#### <span style='font-family: CMU Sans Serif, sans-serif;'> Basis variables  </span> "
   ]
  },
  {
   "cell_type": "code",
   "execution_count": 1,
   "metadata": {},
   "outputs": [
    {
     "ename": "NameError",
     "evalue": "name 'dictDataDescription' is not defined",
     "output_type": "error",
     "traceback": [
      "\u001b[0;31m---------------------------------------------------------------------------\u001b[0m",
      "\u001b[0;31mNameError\u001b[0m                                 Traceback (most recent call last)",
      "Cell \u001b[0;32mIn[1], line 1\u001b[0m\n\u001b[0;32m----> 1\u001b[0m {feat: {\u001b[38;5;124m\"\u001b[39m\u001b[38;5;124mType\u001b[39m\u001b[38;5;124m\"\u001b[39m: details[\u001b[38;5;124m\"\u001b[39m\u001b[38;5;124mType\u001b[39m\u001b[38;5;124m\"\u001b[39m], \u001b[38;5;124m\"\u001b[39m\u001b[38;5;124mExample\u001b[39m\u001b[38;5;124m\"\u001b[39m: details[\u001b[38;5;124m\"\u001b[39m\u001b[38;5;124mExample\u001b[39m\u001b[38;5;124m\"\u001b[39m]} \u001b[38;5;28;01mfor\u001b[39;00m feat, details \u001b[38;5;129;01min\u001b[39;00m \u001b[43mdictDataDescription\u001b[49m[\u001b[38;5;124m'\u001b[39m\u001b[38;5;124mBasis\u001b[39m\u001b[38;5;124m'\u001b[39m]\u001b[38;5;241m.\u001b[39mitems()}\n",
      "\u001b[0;31mNameError\u001b[0m: name 'dictDataDescription' is not defined"
     ]
    }
   ],
   "source": [
    "{feat: {\"Type\": details[\"Type\"], \"Example\": details[\"Example\"]} for feat, details in dictDataDescription['Basis'].items()}"
   ]
  },
  {
   "cell_type": "markdown",
   "metadata": {},
   "source": [
    "# <span style='font-family: CMU Sans Serif, sans-serif;'> EDA  </span> "
   ]
  },
  {
   "cell_type": "code",
   "execution_count": 298,
   "metadata": {},
   "outputs": [],
   "source": [
    "missing_count = dataRawGfdUs[listPrimaryFeatures].isnull().sum(axis=1)"
   ]
  },
  {
   "cell_type": "code",
   "execution_count": 1,
   "metadata": {},
   "outputs": [
    {
     "ename": "NameError",
     "evalue": "name 'dataRawGfdUs' is not defined",
     "output_type": "error",
     "traceback": [
      "\u001b[0;31m---------------------------------------------------------------------------\u001b[0m",
      "\u001b[0;31mNameError\u001b[0m                                 Traceback (most recent call last)",
      "Cell \u001b[0;32mIn[1], line 1\u001b[0m\n\u001b[0;32m----> 1\u001b[0m \u001b[43mdataRawGfdUs\u001b[49m\u001b[38;5;241m.\u001b[39mreset_index(drop\u001b[38;5;241m=\u001b[39m\u001b[38;5;28;01mTrue\u001b[39;00m)\n",
      "\u001b[0;31mNameError\u001b[0m: name 'dataRawGfdUs' is not defined"
     ]
    }
   ],
   "source": [
    "dataRawGfdUs.reset_index(drop=True)"
   ]
  },
  {
   "cell_type": "code",
   "execution_count": null,
   "metadata": {},
   "outputs": [],
   "source": [
    "missing_counts = missing_count.value_counts().sort_index()\n",
    "missing_percentages = (missing_counts / len(dataRawGfdUs))"
   ]
  },
  {
   "cell_type": "code",
   "execution_count": 297,
   "metadata": {},
   "outputs": [
    {
     "name": "stderr",
     "output_type": "stream",
     "text": [
      "<>:5: DeprecationWarning: invalid escape sequence '\\%'\n",
      "<>:5: DeprecationWarning: invalid escape sequence '\\%'\n",
      "/var/folders/xx/hkq2rw3j60b15rqvybvbkgwc0000gp/T/ipykernel_92091/1190701645.py:5: DeprecationWarning: invalid escape sequence '\\%'\n",
      "  plt.ylabel('Percentage of Rows (\\%)')\n"
     ]
    },
    {
     "data": {
      "image/png": "[encoded data removed]",
      "text/plain": [
       "<Figure size 1000x600 with 1 Axes>"
      ]
     },
     "metadata": {},
     "output_type": "display_data"
    }
   ],
   "source": [
    "plt.figure(figsize=(10, 6))\n",
    "missing_percentages.plot(kind='bar', color='skyblue')\n",
    "plt.title('Percentage of Rows with Missing Variables')\n",
    "plt.xlabel('Number of Missing Variables')\n",
    "plt.ylabel('Percentage of Rows (\\%)')\n",
    "plt.xticks(rotation=0)\n",
    "plt.grid(axis='y', linestyle='--', alpha=0.7)\n",
    "plt.show()"
   ]
  }
 ],
 "metadata": {
  "kernelspec": {
   "display_name": "bachelor_venv",
   "language": "python",
   "name": "python3"
  },
  "language_info": {
   "codemirror_mode": {
    "name": "ipython",
    "version": 3
   },
   "file_extension": ".py",
   "mimetype": "text/x-python",
   "name": "python",
   "nbconvert_exporter": "python",
   "pygments_lexer": "ipython3",
   "version": "3.11.11"
  }
 },
 "nbformat": 4,
 "nbformat_minor": 2
}

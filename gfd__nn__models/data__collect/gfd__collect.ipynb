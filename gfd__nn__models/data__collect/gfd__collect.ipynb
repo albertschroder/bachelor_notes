{
 "cells": [
  {
   "cell_type": "markdown",
   "metadata": {},
   "source": [
    "# <span style='font-family: CMU Sans Serif, sans-serif;'> How to retrieve data from Global Factor Data  </span> "
   ]
  },
  {
   "cell_type": "markdown",
   "metadata": {},
   "source": [
    "The database is hosted on Wharton Research Data Service (WRDS) and developed by Theis I. Jensen (Yale) Bryan Kelly (Yale, AQR Capital, and NBER), and Lasse H. Pedersen (Copenhagen Business School and AQR Capital). \n",
    "\n",
    "This code shows how to connect to that database and query data from it."
   ]
  },
  {
   "cell_type": "markdown",
   "metadata": {},
   "source": [
    "## <span style='font-family: CMU Sans Serif, sans-serif;'> Preamble  </span> "
   ]
  },
  {
   "cell_type": "markdown",
   "metadata": {},
   "source": [
    "### <span style='font-family: CMU Sans Serif, sans-serif;'> Package import  </span> "
   ]
  },
  {
   "cell_type": "markdown",
   "metadata": {},
   "source": [
    "First the necessary libraries are imported (`dotenv` is not strictly necessary but good for hiding personal information such as usernames and passwords)."
   ]
  },
  {
   "cell_type": "code",
   "execution_count": 1,
   "metadata": {},
   "outputs": [],
   "source": [
    "from dotenv import load_dotenv\n",
    "\n",
    "import pandas as pd\n",
    "import wrds\n",
    "import os"
   ]
  },
  {
   "cell_type": "markdown",
   "metadata": {},
   "source": [
    "### <span style='font-family: CMU Sans Serif, sans-serif;'> Notebook setup  </span> "
   ]
  },
  {
   "cell_type": "code",
   "execution_count": 2,
   "metadata": {},
   "outputs": [],
   "source": [
    "pd.set_option('display.max_columns', None)  # Show all columns\n",
    "pd.set_option('display.width', 0)  # Use full cell width\n",
    "pd.set_option('display.expand_frame_repr', False)  # Prevent line breaks"
   ]
  },
  {
   "cell_type": "markdown",
   "metadata": {},
   "source": [
    "### <span style='font-family: CMU Sans Serif, sans-serif;'> Credentials import  </span> "
   ]
  },
  {
   "cell_type": "markdown",
   "metadata": {},
   "source": [
    "Password and user-name to Wharton Research Data Services are loaded into environment with `.env` file extension to keep these credentials hidden."
   ]
  },
  {
   "cell_type": "code",
   "execution_count": 3,
   "metadata": {},
   "outputs": [],
   "source": [
    "load_dotenv()\n",
    "wrds_usr = os.getenv(\"MY_WRDS_USERNAME\")\n",
    "wrds_pw = os.getenv(\"MY_WRDS_PASSWORD\")"
   ]
  },
  {
   "cell_type": "markdown",
   "metadata": {},
   "source": [
    "## <span style='font-family: CMU Sans Serif, sans-serif;'> Data import  </span> "
   ]
  },
  {
   "cell_type": "markdown",
   "metadata": {},
   "source": [
    "Below a `SQL` query is created and data is queried from the `contrib.global_factor` database hosted on WRDS."
   ]
  },
  {
   "cell_type": "markdown",
   "metadata": {},
   "source": [
    "### <span style='font-family: CMU Sans Serif, sans-serif;'> Initialize connection to WRDS   </span> "
   ]
  },
  {
   "cell_type": "markdown",
   "metadata": {},
   "source": [
    "The code below connects this session the WRDS server, so that *all* data available on the website can be pulled into this session via en `SQL` query."
   ]
  },
  {
   "cell_type": "code",
   "execution_count": 4,
   "metadata": {},
   "outputs": [
    {
     "name": "stdout",
     "output_type": "stream",
     "text": [
      "Loading library list...\n",
      "Done\n"
     ]
    }
   ],
   "source": [
    "wrds_db = wrds.Connection(\n",
    "    wrds_username = wrds_usr, \n",
    "    wrds_password = wrds_pw)"
   ]
  },
  {
   "cell_type": "markdown",
   "metadata": {},
   "source": [
    "### <span style='font-family: CMU Sans Serif, sans-serif;'> Available variables  </span> "
   ]
  },
  {
   "cell_type": "markdown",
   "metadata": {},
   "source": [
    "The code below creates lists of the available variables in the database `contrib.global_factor`."
   ]
  },
  {
   "cell_type": "code",
   "execution_count": 5,
   "metadata": {},
   "outputs": [],
   "source": [
    "# Import excel sheets from official GitHub page (created by Global Factor Data team)\n",
    "countries = pd.read_excel('https://github.com/bkelly-lab/ReplicationCrisis/raw/master/GlobalFactors/Country%20Classification.xlsx')\n",
    "variables = pd.read_excel('https://github.com/bkelly-lab/ReplicationCrisis/raw/master/GlobalFactors/Factor%20Details.xlsx')"
   ]
  },
  {
   "cell_type": "markdown",
   "metadata": {},
   "source": [
    "The dataframes of available data are cleaned and corrected in the code below. Notice we only select developed or emerging markets."
   ]
  },
  {
   "cell_type": "code",
   "execution_count": 6,
   "metadata": {},
   "outputs": [],
   "source": [
    "countries = countries[countries['msci_development'].isin(('developed', 'emerging'))][['excntry', 'msci_development']]\n",
    "variables = variables[variables['abr_jkp'].notna()][['abr_jkp', 'name_new']]"
   ]
  },
  {
   "cell_type": "markdown",
   "metadata": {},
   "source": [
    "The variables we can select are shown below."
   ]
  },
  {
   "cell_type": "code",
   "execution_count": 7,
   "metadata": {},
   "outputs": [
    {
     "name": "stdout",
     "output_type": "stream",
     "text": [
      "                                     0                          3                           4                              6                     7                                                  9                                           10                            11                             12                     19              22                24                  26                 27                       30              32            34                36                      38                     39                                 40               42                             44                         47                               49                 51               53                             56            57                        59                    60                              61                                        62                     63                      64                      65                66                 68                             69                70                71                  72              73                                           74                                  75                                       76                                         77                                     78                                          79                              80                                81                               82                               83                       84                          86                      87                  89                   90                 91                          92                                    93                          94                                    95                              96             98              100               102                      104                             105                               107                                      108                               110                                      111                                          113                                                114               116             120             122                            125            128                       130            135           137                 139          141                         142       151                                  155                                    156                                     157                             158                     160                162                    165                   171             172                   177                  178                   179                       185                         187                           192                              193                               194                                  195                                196                                   197                                 198                                    199                                 200                                    201            202                                                203                                                204                                               205                                               206                207          209                            210              211             212                                          213                    214                                                215              216             217                                                218                                                219                                                220                   221             222                                   223                                                224                                             225         226                  233            234                          235                        240                        241                         242                 243                       244                                            245               246                            247                                      248                             249                            250                            251                                252                         253                         254\n",
      "abr_jkp                           niq_su                    ret_6_1                    ret_12_1                       saleq_su              tax_gr1a                                           ni_inc8q                            prc_highprc_252d                    resff3_6_1                    resff3_12_1                  be_me         debt_me             at_me           ret_60_12              ni_me                   fcf_me       div12m_me       eqpo_me          eqnpo_me                sale_gr3               sale_gr1                         ebitda_mev          sale_me                         ocf_me                    ival_me                          bev_mev         netdebt_me           eq_dur                      capex_abn        at_gr1               ppeinv_gr1a                noa_at                        noa_gr1a                                 lnoa_gr1a               capx_gr1                capx_gr2                capx_gr3        chcsho_12m          eqnpo_12m                       debt_gr3           inv_gr1          inv_gr1a        oaccruals_at    taccruals_at                                    cowc_gr1a                            coa_gr1a                                 col_gr1a                                 nncoa_gr1a                              ncoa_gr1a                                   ncol_gr1a                       nfna_gr1a                          sti_gr1a                         lti_gr1a                         fnl_gr1a                  be_gr1a                oaccruals_ni            taccruals_ni            netis_at           eqnetis_at         dbnetis_at                      niq_be                           niq_be_chg1                      niq_at                           niq_at_chg1                        ebit_bev      ebit_sale        sale_bev       at_turnover                    gp_at                         gp_atl1                            ope_be                                 ope_bel1                             op_at                                  op_atl1                                       cop_at                                           cop_atl1           f_score         o_score         z_score                         pi_nix          at_be                 saleq_gr1          rd_me       rd_sale             opex_at      emp_gr1                      rd5_at       age                           dsale_dinv                             dsale_drec                               dgp_dsale                      dsale_dsga            sale_emp_gr1        tangibility               kz_index        ocfq_saleq_std         cash_at                ni_ar1              ni_ivol  earnings_variability                   aliq_at                    aliq_mat                    seas_1_1an                       seas_1_1na                        seas_2_5an                           seas_2_5na                        seas_6_10an                           seas_6_10na                        seas_11_15an                           seas_11_15na                        seas_16_20an                           seas_16_20na  market_equity                                       ivol_ff3_21d                                     ivol_capm_252d                                     ivol_capm_21d                                     ivol_hxz4_21d           rvol_21d     beta_60m                  betabab_1260d  beta_dimson_21d   turnover_126d                            turnover_var_126d            dolvol_126d                                    dolvol_var_126d              prc        ami_126d                                    zero_trades_21d                                   zero_trades_126d                                   zero_trades_252d             rmax1_21d       rskew_21d                        iskew_capm_21d                                      iskew_ff3_21d                                  iskew_hxz4_21d  coskew_21d              ret_1_0  betadown_252d                 bidaskhl_21d                    ret_3_1                    ret_9_1                    ret_12_7          corr_1260d                 rmax5_21d                                 rmax5_rvol_21d             ni_be                         ocf_at                              ocf_at_chg1                 mispricing_perf                mispricing_mgmt                            qmj                           qmj_prof                  qmj_growth                  qmj_safety\n",
      "name_new  Standardized earnings surprise  Price momentum t-6 to t-1  Price momentum t-12 to t-1  Standardized Revenue surprise  Tax expense surprise  Number of consecutive quarters with earnings i...  Current price to high price over last year  Residual momentum t-6 to t-1  Residual momentum t-12 to t-1  Book-to-market equity  Debt-to-market  Assets-to-market  Long-term reversal  Earnings-to-price  Free cash flow-to-price  Dividend yield  Payout yield  Net payout yield  Sales Growth (3 years)  Sales Growth (1 year)  Ebitda-to-market enterprise value  Sales-to-market  Operating cash flow-to-market  Intrinsic value-to-market  Book-to-market enterprise value  Net debt-to-price  Equity duration  Abnormal corporate investment  Asset Growth  Change PPE and Inventory  Net operating assets  Change in net operating assets  Change in long-term net operating assets  CAPEX growth (1 year)  CAPEX growth (2 years)  CAPEX growth (3 years)  Net stock issues  Equity net payout  Growth in book debt (3 years)  Inventory growth  Inventory change  Operating accruals  Total accruals  Change in current operating working capital  Change in current operating assets  Change in current operating liabilities  Change in net noncurrent operating assets  Change in noncurrent operating assets  Change in noncurrent operating liabilities  Change in net financial assets  Change in short-term investments  Change in long-term investments  Change in financial liabilities  Change in common equity  Percent operating accruals  Percent total accruals  Net total issuance  Net equity issuance  Net debt issuance  Quarterly return on equity  Change in quarterly return on equity  Quarterly return on assets  Change in quarterly return on assets  Return on net operating assets  Profit margin  Asset turnover  Capital turnover  Gross profits-to-assets  Gross profits-to-lagged assets  Operating profits-to-book equity  Operating profits-to-lagged book equity  Operating profits-to-book assets  Operating profits-to-lagged book assets  Cash-based operating profits-to-book assets  Cash-based operating profits-to-lagged book as...  Pitroski F-score  Ohlson O-score  Altman Z-score  Taxable income-to-book income  Book leverage  Sales growth (1 quarter)  R&D-to-market  R&D-to-sales  Operating leverage  Hiring rate  R&D capital-to-book assets  Firm age  Change sales minus change Inventory  Change sales minus change receivables  Change gross margin minus change sales  Change sales minus change SG&A  Labor force efficiency  Asset tangibility  Kaplan-Zingales index  Cash flow volatility  Cash-to-assets  Earnings persistence  Earnings volatility  Earnings variability  Liquidity of book assets  Liquidity of market assets  Year 1-lagged return, annual  Year 1-lagged return, nonannual  Years 2-5 lagged returns, annual  Years 2-5 lagged returns, nonannual  Years 6-10 lagged returns, annual  Years 6-10 lagged returns, nonannual  Years 11-15 lagged returns, annual  Years 11-15 lagged returns, nonannual  Years 16-20 lagged returns, annual  Years 16-20 lagged returns, nonannual  Market Equity  Idiosyncratic volatility from the Fama-French ...  Idiosyncratic volatility from the CAPM (252 days)  Idiosyncratic volatility from the CAPM (21 days)  Idiosyncratic volatility from the q-factor model  Return volatility  Market Beta  Frazzini-Pedersen market beta      Dimson beta  Share turnover  Coefficient of variation for share turnover  Dollar trading volume  Coefficient of variation for dollar trading vo...  Price per share  Amihud Measure  Number of zero trades with turnover as tiebrea...  Number of zero trades with turnover as tiebrea...  Number of zero trades with turnover as tiebrea...  Maximum daily return  Total skewness  Idiosyncratic skewness from the CAPM  Idiosyncratic skewness from the Fama-French 3-...  Idiosyncratic skewness from the q-factor model  Coskewness  Short-term reversal  Downside beta  The high-low bid-ask spread  Price momentum t-3 to t-1  Price momentum t-9 to t-1  Price momentum t-12 to t-7  Market correlation  Highest 5 days of return  Highest 5 days of return scaled by volatility  Return on equity  Operating cash flow to assets  Change in operating cash flow to assets  Mispricing factor: Performance  Mispricing factor: Management  Quality minus Junk: Composite  Quality minus Junk: Profitability  Quality minus Junk: Growth  Quality minus Junk: Safety\n",
      "\n",
      "                         0         1          2          3          4         6         7          8          9          10         11         12         13        14        15        16         17        18         19        20         21        22        23         24        25         26        27         28        29         30        31         32         33        34         36         38        39        40        41        42        44         46        47        48         50        58        59\n",
      "excntry                 USA       ARE        JPN        HKG        GBR       BRA       CHL        CAN        AUS        DEU        FRA        SWE        CHE       CHN       COL       CZE        SGP       EGY        ITA       GRC        ESP       HUN       IDN        ISR       IND        NLD       KOR        NOR       KWT        BEL       MEX        DNK        FIN       MYS        NZL        AUT       PER       PHL       POL       QAT       SAU        IRL       THA       TUR        PRT       TWN       ZAF\n",
      "msci_development  developed  emerging  developed  developed  developed  emerging  emerging  developed  developed  developed  developed  developed  developed  emerging  emerging  emerging  developed  emerging  developed  emerging  developed  emerging  emerging  developed  emerging  developed  emerging  developed  emerging  developed  emerging  developed  developed  emerging  developed  developed  emerging  emerging  emerging  emerging  emerging  developed  emerging  emerging  developed  emerging  emerging\n"
     ]
    }
   ],
   "source": [
    "print(variables.T)\n",
    "print(\"\")\n",
    "print(countries.T)"
   ]
  },
  {
   "cell_type": "markdown",
   "metadata": {},
   "source": [
    "### <span style='font-family: CMU Sans Serif, sans-serif;'> Querying data from WRDS   </span> "
   ]
  },
  {
   "cell_type": "markdown",
   "metadata": {},
   "source": [
    "This is an example query that pulls data from the previously talked about database. The SQL used for this can be found in the `query.sql` file in this folder."
   ]
  },
  {
   "cell_type": "code",
   "execution_count": 9,
   "metadata": {},
   "outputs": [
    {
     "name": "stderr",
     "output_type": "stream",
     "text": [
      "/Users/albertschroder/Desktop/BACHELOR NOTES/bachelor_venv/lib/python3.11/site-packages/wrds/sql.py:591: FutureWarning: The behavior of DataFrame concatenation with empty or all-NA entries is deprecated. In a future version, this will no longer exclude empty or all-NA columns when determining the result dtypes. To retain the old behavior, exclude the relevant entries before the concat operation.\n",
      "  full_df = pd.concat([full_df, chunk])\n"
     ]
    }
   ],
   "source": [
    "with open(\"query.sql\", \"r\") as file: \n",
    "    sql_query = file.read()\n",
    "\n",
    "data = wrds_db.raw_sql(sql_query)"
   ]
  },
  {
   "cell_type": "markdown",
   "metadata": {},
   "source": [
    "To avoid running this again we save the data as a compressed csv file."
   ]
  },
  {
   "cell_type": "code",
   "execution_count": 12,
   "metadata": {},
   "outputs": [],
   "source": [
    "data.to_parquet(\"usa__gfd.parquet\", engine=\"pyarrow\", compression=\"snappy\")"
   ]
  },
  {
   "cell_type": "code",
   "execution_count": 13,
   "metadata": {},
   "outputs": [
    {
     "name": "stdout",
     "output_type": "stream",
     "text": [
      "                            0\n",
      "capex_abn             1775268\n",
      "z_score               1322279\n",
      "ami_126d               825114\n",
      "at_gr1                 863896\n",
      "tangibility           1144876\n",
      "sale_bev               899889\n",
      "at_me                  748812\n",
      "at_be                  843501\n",
      "bev_mev                955783\n",
      "be_me                  881272\n",
      "capx_gr1              1259420\n",
      "capx_gr2              1485466\n",
      "capx_gr3              1707909\n",
      "at_turnover            787078\n",
      "ocfq_saleq_std        2063979\n",
      "cop_at                1080503\n",
      "cop_atl1              1109823\n",
      "cash_at                749502\n",
      "dgp_dsale             1358198\n",
      "be_gr1a               1062948\n",
      "coa_gr1a              1208691\n",
      "col_gr1a              1170604\n",
      "cowc_gr1a             1232328\n",
      "fnl_gr1a               879421\n",
      "lti_gr1a              1148751\n",
      "lnoa_gr1a             1360426\n",
      "nfna_gr1a              879421\n",
      "nncoa_gr1a            1237515\n",
      "noa_gr1a              1260095\n",
      "ncoa_gr1a             1186376\n",
      "ncol_gr1a             1198150\n",
      "ocf_at_chg1            984675\n",
      "niq_at_chg1           1515882\n",
      "niq_be_chg1           1655704\n",
      "sti_gr1a              1415177\n",
      "ppeinv_gr1a           1262750\n",
      "dsale_dinv            1787491\n",
      "dsale_drec            1309478\n",
      "dsale_dsga            1705568\n",
      "dolvol_var_126d        513829\n",
      "turnover_var_126d      524154\n",
      "gvkey                  505729\n",
      "iid                    505729\n",
      "comp_exchg            3989636\n",
      "comp_tpci             3989636\n",
      "coskew_21d             805271\n",
      "permco                 221970\n",
      "permno                 221970\n",
      "crsp_exchcd            221970\n",
      "crsp_shrcd             221970\n",
      "prc_highprc_252d       829213\n",
      "date                        0\n",
      "debt_me                762605\n",
      "beta_dimson_21d        805271\n",
      "div12m_me              467399\n",
      "dolvol_126d            502560\n",
      "dolvol                 389943\n",
      "betadown_252d          878036\n",
      "ni_ar1                1815170\n",
      "earnings_variability  1860109\n",
      "ni_ivol               1815170\n",
      "ni_me                  759794\n",
      "ebitda_mev             855670\n",
      "eom                         0\n",
      "eq_dur                1326126\n",
      "eqnpo_12m              472692\n",
      "ret_exc                148278\n",
      "ret_exc_lead1m         129664\n",
      "excntry                     0\n",
      "fx                      38608\n",
      "ff49                   313466\n",
      "age                         0\n",
      "betabab_1260d         1604742\n",
      "fcf_me                1034851\n",
      "gics                  2727557\n",
      "gp_at                  752152\n",
      "gp_atl1                893524\n",
      "debt_gr3              1678009\n",
      "rmax5_21d              805271\n",
      "rmax5_rvol_21d         992070\n",
      "prc_high               912333\n",
      "emp_gr1               1453300\n",
      "id                          0\n",
      "iskew_capm_21d         805271\n",
      "iskew_ff3_21d         1007951\n",
      "iskew_hxz4_21d        1276270\n",
      "ivol_capm_21d          805271\n",
      "ivol_capm_252d         828267\n",
      "ivol_ff3_21d          1007951\n",
      "ivol_hxz4_21d         1276270\n",
      "common                      0\n",
      "exch_main                   0\n",
      "obs_main                    0\n",
      "bidask                      0\n",
      "primary_sec                 0\n",
      "source_crsp                 0\n",
      "ival_me               1768490\n",
      "inv_gr1a               967105\n",
      "inv_gr1               1616038\n",
      "kz_index              1275245\n",
      "sale_emp_gr1          1342444\n",
      "aliq_at               1199999\n",
      "aliq_mat              1446170\n",
      "curcd                   38607\n",
      "ret_60_12             1558955\n",
      "prc_low                887452\n",
      "beta_60m              1201723\n",
      "corr_1260d            1578287\n",
      "market_equity           81572\n",
      "me                      81572\n",
      "me_company              81483\n",
      "rmax1_21d              805271\n",
      "mispricing_mgmt        947564\n",
      "mispricing_perf        266944\n",
      "ret_lag_dif             94133\n",
      "naics                 1763168\n",
      "dbnetis_at             774793\n",
      "netdebt_me             762605\n",
      "eqnetis_at            1219329\n",
      "noa_at                1243867\n",
      "eqnpo_me              1244652\n",
      "chcsho_12m             409668\n",
      "netis_at              1219714\n",
      "ni_inc8q              1832073\n",
      "tvol                   387238\n",
      "zero_trades_21d        461899\n",
      "zero_trades_252d       598769\n",
      "zero_trades_126d       517750\n",
      "o_score               1272034\n",
      "oaccruals_at          1076592\n",
      "ocf_at                 801216\n",
      "ocf_me                 837283\n",
      "opex_at                752189\n",
      "op_at                  743287\n",
      "ope_be                1311742\n",
      "op_atl1                885976\n",
      "ope_bel1              1458255\n",
      "eqpo_me               1399589\n",
      "oaccruals_ni          1078521\n",
      "taccruals_ni          1107211\n",
      "f_score               1514617\n",
      "ret_12_1               447810\n",
      "ret_12_7               458999\n",
      "ret_3_1                180196\n",
      "ret_6_1                270917\n",
      "ret_9_1                360143\n",
      "prc                     57009\n",
      "prc_local               57008\n",
      "ebit_sale              814000\n",
      "qmj                   1810910\n",
      "qmj_growth            1810837\n",
      "qmj_prof               816037\n",
      "qmj_safety             498541\n",
      "niq_at                1271667\n",
      "niq_be                1382024\n",
      "rd5_at                3158887\n",
      "rd_me                 2636540\n",
      "rd_sale               2671489\n",
      "resff3_12_1           1140041\n",
      "resff3_6_1            1143805\n",
      "ni_be                  858221\n",
      "ebit_bev               903131\n",
      "rvol_21d               805271\n",
      "saleq_gr1             1265342\n",
      "sale_gr1               975554\n",
      "sale_gr3              1424833\n",
      "sale_me                768245\n",
      "adjfct                   2020\n",
      "turnover_126d          518800\n",
      "shares                  32489\n",
      "ret_1_0                143880\n",
      "sic                    257864\n",
      "size_grp                81572\n",
      "niq_su                1646577\n",
      "saleq_su              1696261\n",
      "tax_gr1a               906657\n",
      "pi_nix                1681083\n",
      "bidaskhl_21d           653499\n",
      "taccruals_at          1104837\n",
      "ret_local              143133\n",
      "ret                    143133\n",
      "rskew_21d              805271\n",
      "seas_1_1an             491128\n",
      "seas_1_1na             524921\n",
      "seas_11_15an          2982444\n",
      "seas_11_15na          3017643\n",
      "seas_16_20an          3334603\n",
      "seas_16_20na          3361296\n",
      "seas_2_5an            1640396\n",
      "seas_2_5na            1698072\n",
      "seas_6_10an           2469185\n",
      "seas_6_10na           2516449\n"
     ]
    }
   ],
   "source": [
    "pd.set_option('display.max_rows', None)  # Show all rows\n",
    "print(pd.DataFrame(data.isna().sum()))"
   ]
  },
  {
   "cell_type": "code",
   "execution_count": null,
   "metadata": {},
   "outputs": [
    {
     "data": {
      "text/plain": [
       "(4211606, 192)"
      ]
     },
     "execution_count": 15,
     "metadata": {},
     "output_type": "execute_result"
    },
    {
     "ename": "",
     "evalue": "",
     "output_type": "error",
     "traceback": [
      "\u001b[1;31mThe Kernel crashed while executing code in the current cell or a previous cell. \n",
      "\u001b[1;31mPlease review the code in the cell(s) to identify a possible cause of the failure. \n",
      "\u001b[1;31mClick <a href='https://aka.ms/vscodeJupyterKernelCrash'>here</a> for more info. \n",
      "\u001b[1;31mView Jupyter <a href='command:jupyter.viewOutput'>log</a> for further details."
     ]
    }
   ],
   "source": [
    "data.shape"
   ]
  },
  {
   "cell_type": "code",
   "execution_count": null,
   "metadata": {},
   "outputs": [],
   "source": []
  }
 ],
 "metadata": {
  "kernelspec": {
   "display_name": "bachelor_venv",
   "language": "python",
   "name": "python3"
  },
  "language_info": {
   "codemirror_mode": {
    "name": "ipython",
    "version": 3
   },
   "file_extension": ".py",
   "mimetype": "text/x-python",
   "name": "python",
   "nbconvert_exporter": "python",
   "pygments_lexer": "ipython3",
   "version": "3.11.11"
  }
 },
 "nbformat": 4,
 "nbformat_minor": 2
}

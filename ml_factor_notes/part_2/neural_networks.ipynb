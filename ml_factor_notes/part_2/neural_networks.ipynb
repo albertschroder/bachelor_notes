{
 "cells": [
  {
   "cell_type": "markdown",
   "metadata": {},
   "source": [
    "# <span style='color:#008080'> Neural networks  </span> "
   ]
  },
  {
   "cell_type": "markdown",
   "metadata": {},
   "source": [
    "## <span style='color:#008080'> The original perceptron  </span> "
   ]
  },
  {
   "cell_type": "markdown",
   "metadata": {
    "vscode": {
     "languageId": "plaintext"
    }
   },
   "source": [
    "The aim is binary classification. Assume that output is $\\{ 0 = \\text{do not invest} \\}$ versus $\\{ 1 = \\text{invest} \\}$.\n",
    "\n",
    "\n",
    "The perceptron can be defined as an activated linear mapping:\n",
    "$$\n",
    "f(\\mathbf{x}) = \\begin{cases} 1, & \\mathbf{x}'\\mathbf{w} + b > 0 \\\\0 , & \\text{otherwise} \\end{cases}\n",
    "$$\n",
    "\n",
    "- Weights ($\\mathbf{x}$): These scale the variable.\n",
    "- Biases ($b$): These shift the decision barrier. \n",
    "- Error: Given $b$ and $w_i$ the error is $\\epsilon_i = y_i - 1_{\\{ \\sum_{j=1}^{J} x_{i,j} w_j + w_0 > 0 \\}}$. \n",
    "    - It can be custom to set $b = w_0$ and have an initial constant column to $x$: $x_{i,0} = 1$, so that errors become $\\epsilon_i = y_i - 1_{\\{ \\sum_{j=0}^{J} x_{i,j} w_j > 0 \\}}$\n",
    "\n",
    "Perceptrons do not have closed form solution $\\to$ can only be approximated. \n",
    "\n",
    "A good way to derive weights is to minimize sum of squared errors. The simplest way to proceed is \n",
    "\n",
    "1. compute the current model value at point $\\mathbf{x}$: $\\tilde{y}_i = 1_{\\{ \\sum_{j=0}^{J} x_{i,j} w_j > 0 \\}}$,\n",
    "2. adjust the weight vector: $w_j \\leftarrow w_j + \\eta (y_i - \\tilde{y}_i) x_{i,j}$,\n",
    "\n",
    "This amounts to shifting the weights in the direction that minimizes the squares error. \n",
    "\n",
    "$\\eta$ is the learning rate. Large $\\eta$ implies large shifts: learning is rapid but convergence might be slow or not occur. *A small $\\eta$ is preferred as this avoids overfitting*."
   ]
  }
 ],
 "metadata": {
  "kernelspec": {
   "display_name": "base",
   "language": "python",
   "name": "python3"
  },
  "language_info": {
   "name": "python",
   "version": "3.12.8"
  }
 },
 "nbformat": 4,
 "nbformat_minor": 2
}

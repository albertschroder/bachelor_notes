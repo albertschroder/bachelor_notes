{
 "cells": [
  {
   "cell_type": "markdown",
   "metadata": {},
   "source": [
    "# <span style='color:#008080'> Preamble  </span> \n"
   ]
  },
  {
   "cell_type": "markdown",
   "metadata": {},
   "source": [
    "This section will always be there for preparing the code used in the particular section. "
   ]
  },
  {
   "cell_type": "markdown",
   "metadata": {},
   "source": [
    "## <span style='color:#008080'> Import libraries  </span> "
   ]
  },
  {
   "cell_type": "markdown",
   "metadata": {},
   "source": [
    "In the code below we import the necessary libraries."
   ]
  },
  {
   "cell_type": "code",
   "execution_count": 4,
   "metadata": {},
   "outputs": [],
   "source": [
    "import pandas as pd\n",
    "import matplotlib.pyplot as plt\n",
    "import numpy as np\n",
    "import seaborn as sns\n",
    "import warnings\n",
    "import xgboost as xgb\n",
    "\n",
    "from sklearn import tree \n",
    "from sklearn.ensemble import RandomForestRegressor\n",
    "from sklearn.ensemble import RandomForestClassifier\n",
    "from sklearn.metrics import mean_squared_error\n",
    "from sklearn.tree import DecisionTreeClassifier\n",
    "from sklearn.ensemble import AdaBoostClassifier\n",
    "from sklearn.metrics import accuracy_score"
   ]
  },
  {
   "cell_type": "markdown",
   "metadata": {},
   "source": [
    "## <span style='color:#008080'> Data preparation  </span> "
   ]
  },
  {
   "cell_type": "markdown",
   "metadata": {},
   "source": [
    "The code below cleans the data before tree algorithms are used on it.\n",
    "\n",
    "First we make sure that a full sample is obtained."
   ]
  },
  {
   "cell_type": "code",
   "execution_count": 5,
   "metadata": {},
   "outputs": [],
   "source": [
    "# Import data \n",
    "data_raw = pd.read_csv(\"../data_ml.csv\")\n",
    "\n",
    "# Clean data to include full samples\n",
    "idx_date = data_raw.index[(data_raw['date'] > '1999-12-31') & (data_raw['date'] < '2019-01-01')].tolist()\n",
    "data_ml = data_raw.iloc[idx_date]"
   ]
  },
  {
   "cell_type": "markdown",
   "metadata": {},
   "source": [
    "Then the features are extracted from the sample dataframe (i.e. independent variables)."
   ]
  },
  {
   "cell_type": "code",
   "execution_count": 6,
   "metadata": {},
   "outputs": [],
   "source": [
    "# Extract features\n",
    "features = list(data_ml.iloc[:,3:95].columns) \n",
    "features_short = [\"Div_Yld\", \"Eps\", \"Mkt_Cap_12M_Usd\", \"Mom_11M_Usd\", \"Ocf\", \"Pb\", \"Vol1Y_Usd\"]"
   ]
  },
  {
   "cell_type": "markdown",
   "metadata": {},
   "source": [
    "The medians are calculated and categorical variables are created when the observered value is above/below the median."
   ]
  },
  {
   "cell_type": "code",
   "execution_count": 7,
   "metadata": {},
   "outputs": [],
   "source": [
    "warnings.filterwarnings('ignore')\n",
    "\n",
    "# Extract relevant data and create placeholder dataframe\n",
    "col_feat_Div_Yld = data_ml.columns.get_loc('Div_Yld')\n",
    "is_custom_date = data_ml['date'] == '2000-02-29'\n",
    "df_median=[]\n",
    "df=[]\n",
    "\n",
    "# Calculate medians to use for creating categorical variable\n",
    "df_median = data_ml[['date','R1M_Usd','R12M_Usd']].groupby(['date']).median() \n",
    "df_median.rename(columns = {\"R1M_Usd\": \"R1M_Usd_median\", \"R12M_Usd\": \"R12M_Usd_median\"},inplace=True)\n",
    "df = pd.merge(data_ml,df_median,how='left', on=['date'])\n",
    "\n",
    "# Create categorical variables\n",
    "data_ml['R1M_Usd_C'] = np.where(df['R1M_Usd'] > df['R1M_Usd_median'], 1.0, 0.0)\n",
    "data_ml['R12M_Usd_C'] = np.where(df['R12M_Usd'] > df['R12M_Usd_median'], 1.0, 0.0)\n",
    "\n",
    "# Remove the dataframes again to keep the programme light\n",
    "df_median=[]\n",
    "df=[]"
   ]
  },
  {
   "cell_type": "markdown",
   "metadata": {},
   "source": [
    "Finally, a list a short stock ids is created for concentrated analysis"
   ]
  },
  {
   "cell_type": "code",
   "execution_count": 8,
   "metadata": {},
   "outputs": [],
   "source": [
    "# Create short id and date list\n",
    "stock_ids_short=[]\n",
    "stock_days=[]\n",
    "stock_ids=data_ml['stock_id'].unique()\n",
    "stock_days=data_ml[['date','stock_id']].groupby(['stock_id']).count().reset_index()\n",
    "stock_ids_short=stock_days.loc[stock_days['date'] == (stock_days['date'].max())]\n",
    "stock_ids_short=stock_ids_short['stock_id'].unique() \n",
    "\n",
    "# Extract all stocks and calculate returns\n",
    "is_stock_ids_short=data_ml['stock_id'].isin(stock_ids_short)  \n",
    "returns=data_ml[is_stock_ids_short].pivot(index='date',columns='stock_id',values='R1M_Usd') # compute returns in matrix format"
   ]
  },
  {
   "cell_type": "markdown",
   "metadata": {},
   "source": [
    "# <span style='color:#008080'> Tree based models  </span> "
   ]
  },
  {
   "cell_type": "markdown",
   "metadata": {},
   "source": [
    "## <span style='color:#008080'> Simple trees  </span> "
   ]
  },
  {
   "cell_type": "markdown",
   "metadata": {},
   "source": [
    "These methods seek to partition data into homogeneous clusturs. Given an exogenous variable $\\boldsymbol{Y}$ and features $\\boldsymbol{X}$ decision trees iteratively \n",
    "splits the sample into groups that are homogenous in $\\boldsymbol{Y}$. The splits are made according to one variable within the set of features.\n",
    "\n",
    "- **Regression tree**: $\\boldsymbol{Y}$ consists of real numbers;\n",
    "- **Classification tree**:  $\\boldsymbol{Y}$ is categorical.\n",
    "\n",
    "<br>\n",
    "\n",
    "Let sample be ($y_{i}$ and $\\mathbf{x}_{i}$) of size $I$. Goal of a **regression tree** is to find splitting point that minimizes total variation in $y_i$ in the two child clusters. First optimal splitting points are first found within each feature $x_{i}^{(k)}$. After it finds the feature that achieves the highest level of homogeneity in $\\mathbf{Y}$.\n",
    "\n",
    "**Homogenity**: Measured by total variation (variance times number of observations), which is summed for each child cluster. This is done since variance is not dependent on amount of observations in each cluster. "
   ]
  },
  {
   "cell_type": "markdown",
   "metadata": {},
   "source": [
    "### <span style='color:#008080'> Finding optimal splitting points  </span> "
   ]
  },
  {
   "cell_type": "markdown",
   "metadata": {},
   "source": [
    "The first step is to find the best split for each feature. Done by solving $\\mathrm{argmin}_{c^{(k)}} V^{(k)}_{I}(c^{(k)})$ with \n",
    "\\begin{equation}\n",
    "    V_{I}^{(k)} (c^{(k)}) = \\sum_{x_{i}^{(k)} < c^{(k)}} (y_{i} - m_{I}^{k, -}(c^{(k)}))^{2} +  \\sum_{x_{i}^{(k)} > c^{(k)}} (y_{i} - m_{I}^{k, +}(c^{(k)}))^{2}, \n",
    "\\end{equation} 0 \n",
    "where\n",
    "\\begin{align*}\n",
    "    m_{I}^{k, -} &= \\frac{1}{\\# \\{ i, x_{i}^{(k)} < c^{(k)} \\} } \\sum_{\\{ x_{i}^{(k)} < c^{(k)} \\} } y_{i} \\\\\n",
    "    m_{I}^{k, +} &= \\frac{1}{\\# \\{ i, x_{i}^{(k)} > c^{(k)} \\} } \\sum_{\\{ x_{i}^{(k)} > c^{(k)} \\} } y_{i}\n",
    "\\end{align*}\n",
    "are the average values of $\\boldsymbol{Y}$ , conditional on $\\boldsymbol{X}^{(k)}$ being smaller or larger than $c$. For feature $k$, the optimal split $c^{k,\\ast}$ is thus the one for which the total dispersion over the two subgroups is the smallest.\n",
    "\n",
    "The optimal splits satisfy $c^{k, \\ast} = \\mathrm{argmin}_{c^{(k)}} V_{I}^{(k)} (c^{(k)})$. Of all the possible splitting variables, the tree will choose the one that minimizes the total dispersion all splits and variables: $k^{\\ast} = \\mathrm{argmin}_{k} V_{I}^{(k)} (c^{k, \\ast})$.\n"
   ]
  },
  {
   "cell_type": "markdown",
   "metadata": {},
   "source": [
    "### <span style='color:#008080'> Stop split criteria  </span> "
   ]
  },
  {
   "cell_type": "markdown",
   "metadata": {},
   "source": [
    "A lot of different methods exist. Some of them are \n",
    "- Fix maximum number of levels (dept) in tree;\n",
    "- Impose a minimal gain tha tis expected for each split (if split does not improve beyond that threshold it is not executed)."
   ]
  },
  {
   "cell_type": "markdown",
   "metadata": {},
   "source": [
    "### <span style='color:#008080'> Prediction with simple trees  </span> "
   ]
  },
  {
   "cell_type": "markdown",
   "metadata": {},
   "source": [
    "When a tree is built (trained) a new prediction will end up at a leaf in the tree given its feature values. Each leaf has an average value for the label: this is the predicted outcome."
   ]
  },
  {
   "cell_type": "markdown",
   "metadata": {},
   "source": [
    "### <span style='color:#008080'> Details on classification  </span> "
   ]
  },
  {
   "cell_type": "markdown",
   "metadata": {},
   "source": [
    "When working with classification the largest difference (compared to regression) is the **measure of dispersion/heterogeneity**.\n",
    "\n",
    "The loss-function must be able to handles outputs that are not numbers, but that are vectors. The output vector, $\\tilde{\\mathbf{y}}_i$, has the same number of elements as there are categories, and each element represents a probability that a prediction belongs to a category.\n",
    "\n",
    "Since the aim of trees is homogenity, the **loss function penalizes outputs that are not concentrated towards one class/category**. \n",
    "\n",
    "<br>\n",
    "\n",
    "If there are $J$ classes, we denote the proportions inside each class with $p_{J}$. **Usual loss-functions are**:\n",
    "- the Gini impurity index: $1- \\sum_{j=1}^{J} p_{j}^{2}$;\n",
    "- the misclassification error: $1 - \\max_{j} p_{j}$;\n",
    "- entropy: $- \\sum _{j=1}^{J} \\log(p_{j})p_{j}$.\n",
    "\n",
    "\n",
    "Once the tree is grown, new instances automatically belong to one final leaf. This leaf is associated to the proportions of classes it nests. Usually, to make a prediction, the class with highest proportion (or probability) is chosen when a new instance is associated with the leaf."
   ]
  },
  {
   "cell_type": "markdown",
   "metadata": {},
   "source": [
    "### <span style='color:#008080'> Pruning criteria  </span> "
   ]
  },
  {
   "cell_type": "markdown",
   "metadata": {},
   "source": [
    "Further splitting can be pursued the tree is grown, which is when: \n",
    "-  all instances belong to separate leaves, and/or\n",
    "-  all leaves comprise instances that cannot be further segregated based on the current set of features.\n",
    "\n",
    "At this stage, the splitting process cannot be pursued.\n",
    "\n",
    "The fine grained idiosyncrasies of the training sample are of little interest for out-of-sample predictions. The most reliable sections of the trees are those closest to the root because they embed large portions of the data: the average values in the early clusters are trustworthy because the are computed on a large number of observations. The first splits are those that matter the most because they determine the most general patterns. The deepest splits only deal with the peculiarities of the sample.\n",
    "\n",
    "<br>\n",
    "\n",
    "**It is imperative to limit the size of the tree to avoid overfitting**. This can be done by\n",
    "- Impose a minimum number of instances for each terminal node (leaf). This ensures that each final cluster is composed of a sufficient number of observations. Hence, the average value of the label will be reliable because it is calculated on a large amount of data.\n",
    "- Similarly, it can be imposed that a cluster has a minimal size before even considering any further split. This criterion is of course related to the one above.\n",
    "- Require a certain threshold of improvement in the fit. If a split does not sufficiently reduce the loss, then it can be deemed unnecessary. The user specifies a small number $\\epsilon > 0$ and a split is only validated if the loss obtained post-split is smaller than $1-\\epsilon $ times the loss before the split.\n",
    "- Limit the depth of the tree. The depth is defined as the overall maximum number of splits between the root and any leaf of the tree."
   ]
  },
  {
   "cell_type": "markdown",
   "metadata": {},
   "source": [
    "### <span style='color:#008080'> Code and interpretation  </span> "
   ]
  },
  {
   "cell_type": "markdown",
   "metadata": {},
   "source": [
    "Below a simple tree has been fit."
   ]
  },
  {
   "cell_type": "code",
   "execution_count": 9,
   "metadata": {},
   "outputs": [
    {
     "data": {
      "image/png": "[encoded data removed]",
      "text/plain": [
       "<Figure size 2000x500 with 1 Axes>"
      ]
     },
     "metadata": {},
     "output_type": "display_data"
    }
   ],
   "source": [
    "X = data_ml.iloc[:,3:95] # recall features/predictors, full sample\n",
    "y = data_ml['R1M_Usd'] # recall label/Dependent variable, full sample\n",
    "\n",
    "# Define and fit the model\n",
    "fit_tree = tree.DecisionTreeRegressor(\n",
    "    min_samples_split=8000,\n",
    "    max_depth=3,\n",
    "    ccp_alpha=0.000001,\n",
    "    min_samples_leaf=3500\n",
    ")\n",
    "fit_tree.fit(X, y)\n",
    "\n",
    "# Improve the tree plot\n",
    "fig, ax = plt.subplots(figsize=(20, 5))  # Increase figure size\n",
    "tree.plot_tree(\n",
    "    fit_tree, \n",
    "    feature_names=X.columns.values, \n",
    "    filled=True, \n",
    "    rounded=True, \n",
    "    fontsize=10, \n",
    "    impurity=False,\n",
    "    proportion=True\n",
    ")\n",
    "\n",
    "plt.title(\"Decision Tree Visualization\", fontsize=14, fontweight=\"bold\")  # Add title\n",
    "plt.show()\n"
   ]
  },
  {
   "cell_type": "markdown",
   "metadata": {},
   "source": [
    "We can see that not all leafs include the same amount of observations. This is not favorable since it can mean some leafs are flukes and will not generalize well out of sample.\n",
    "\n",
    "The prediction for any instance is the average value of the label within the cluster where the instance should land.\n",
    "\n",
    "As a verification of the first splits, we plot the smoothed average of future returns, conditionally on market capitalization, price-to-book ratio and trading volume. The graph shows the relevance of clusters based on market capitalizations and price-to-book ratios. For low score values of these two features, the average return is high (close to +4\\% on a monthly basis on the left of the curves). The pattern is more pronounced compared to volume for instance."
   ]
  },
  {
   "cell_type": "code",
   "execution_count": 10,
   "metadata": {},
   "outputs": [
    {
     "data": {
      "image/png": "[encoded data removed]",
      "text/plain": [
       "<Figure size 2000x500 with 1 Axes>"
      ]
     },
     "metadata": {},
     "output_type": "display_data"
    }
   ],
   "source": [
    "unpivoted_data_ml = pd.melt(data_ml[['R1M_Usd','Mkt_Cap_12M_Usd','Pb','Advt_3M_Usd']], id_vars='R1M_Usd') # selecting and putting in vector\n",
    "fig, ax = plt.subplots(figsize=(20, 5))\n",
    "sns.lineplot(data = unpivoted_data_ml, y='R1M_Usd', x='value', hue='variable'); # Plot from seaborn"
   ]
  },
  {
   "cell_type": "markdown",
   "metadata": {},
   "source": [
    "#### <span style='color:#008080'> Train and test data  </span> "
   ]
  },
  {
   "cell_type": "markdown",
   "metadata": {},
   "source": [
    "Below we have created test and train data in order to test how well the model performs out of sample predictions."
   ]
  },
  {
   "cell_type": "code",
   "execution_count": 11,
   "metadata": {},
   "outputs": [],
   "source": [
    "# Define test and train data\n",
    "separation_date = \"2014-01-15\"\n",
    "training_sample = data_ml[(data_ml['date'] < separation_date)]\n",
    "testing_sample = data_ml[(data_ml['date'] >= separation_date)]"
   ]
  },
  {
   "cell_type": "markdown",
   "metadata": {},
   "source": [
    "Calculate prediction fit"
   ]
  },
  {
   "cell_type": "code",
   "execution_count": 12,
   "metadata": {},
   "outputs": [
    {
     "name": "stdout",
     "output_type": "stream",
     "text": [
      "MSE: 0.036996958091850045\n",
      "Hit Ratio: 0.5460346399270738\n"
     ]
    }
   ],
   "source": [
    "y_train = training_sample['R1M_Usd'].values\n",
    "X_train = training_sample[features].values\n",
    "y_test = testing_sample['R1M_Usd'].values\n",
    "X_test = testing_sample[features].values\n",
    "\n",
    "\n",
    "fit_tree2 = tree.DecisionTreeRegressor( # Definining the model\n",
    "  min_samples_split = 4000, # Min nb of obs required to continue splitting\n",
    "  max_depth = 5, # Maximum depth (i.e. tree levels)\n",
    "  ccp_alpha=0.0001, # complexity parameters\n",
    "  min_samples_leaf =1500 # Min nb of obs required in each terminal node (leaf)\n",
    "        )\n",
    "fit_tree2 = fit_tree2.fit(X_train, y_train) # Fitting the model\n",
    "\n",
    "mse = np.mean((fit_tree2.predict(X_test) - y_test)**2)\n",
    "print(f'MSE: {mse}')\n",
    "hitratio = np.mean(fit_tree2.predict(X_test) * y_test > 0)\n",
    "print(f'Hit Ratio: {hitratio}')"
   ]
  },
  {
   "cell_type": "markdown",
   "metadata": {},
   "source": [
    "We can see that we correctly identify returns in **54.6%** of cases."
   ]
  },
  {
   "cell_type": "markdown",
   "metadata": {},
   "source": [
    "## <span style='color:#008080'> Random forests  </span> "
   ]
  },
  {
   "cell_type": "markdown",
   "metadata": {},
   "source": [
    "These models seek to combine simple trees (bad models) into one tree (good model)."
   ]
  },
  {
   "cell_type": "markdown",
   "metadata": {},
   "source": [
    "### <span style='color:#008080'> Principle  </span> "
   ]
  },
  {
   "cell_type": "markdown",
   "metadata": {},
   "source": [
    "There are two ways to create multiple predictors from simple trees, and random forests combine both\n",
    "\n",
    "- first, the model can be trained on similar yet different datasets. One way to achieve this is via bootstrap.\n",
    "- second, the data can be altered by curtailing the number of predictors. Alternative models are built based on different sets of features. The user chooses how many features to retain and then the algorithm selects these features randomly at each try.\n",
    "\n",
    "Ensemble is simply a weighted combination of all trees. Usually, equal weights are used, which is an agnostic and robust choice.\n",
    "\n",
    "*NB: As the amount of trees grow toward infinity the inaccuracy converges, which means random forests are not prone to overfitting*."
   ]
  },
  {
   "cell_type": "markdown",
   "metadata": {},
   "source": [
    "### <span style='color:#008080'> Code and interpretation  </span> "
   ]
  },
  {
   "cell_type": "markdown",
   "metadata": {},
   "source": [
    "#### <span style='color:#008080'> Random forrest regression  </span> "
   ]
  },
  {
   "cell_type": "markdown",
   "metadata": {},
   "source": [
    "Below, we train a model and exhibit the predictions for the first 5 instances of the testing sample."
   ]
  },
  {
   "cell_type": "code",
   "execution_count": 13,
   "metadata": {},
   "outputs": [
    {
     "data": {
      "text/plain": [
       "array([0.11371878, 0.11197378, 0.11444802, 0.09014969, 0.08705149])"
      ]
     },
     "execution_count": 13,
     "metadata": {},
     "output_type": "execute_result"
    }
   ],
   "source": [
    "fit_RF = RandomForestRegressor(\n",
    "    n_estimators=40, \n",
    "    criterion='squared_error',\n",
    "    min_samples_split= 250, \n",
    "    bootstrap=True, \n",
    "    max_features=30,\n",
    "    max_samples=10000\n",
    ")\n",
    "\n",
    "fit_RF.fit(X_train, y_train)\n",
    "fit_RF.predict(pd.DataFrame(X_test).iloc[0:5,])"
   ]
  },
  {
   "cell_type": "markdown",
   "metadata": {},
   "source": [
    "Each instance has its own prediction, which contrasts with the outcome of simple tree-based outcomes.\n",
    "\n",
    "The model accuracy is shown below:"
   ]
  },
  {
   "cell_type": "code",
   "execution_count": 17,
   "metadata": {},
   "outputs": [
    {
     "name": "stdout",
     "output_type": "stream",
     "text": [
      "MSE: 0.03697424901589585\n",
      "Hit Ratio: 0.5362494302643573\n"
     ]
    }
   ],
   "source": [
    "mse=mean_squared_error(y_test, fit_RF.predict(X_test))\n",
    "print(f'MSE: {mse}')\n",
    "hitratio = np.mean(fit_RF.predict(X_test) * y_test > 0)\n",
    "print(f'Hit Ratio: {hitratio}')"
   ]
  },
  {
   "cell_type": "markdown",
   "metadata": {},
   "source": [
    "The MSE is smaller than 4% and the hit ratio is close to 54%, which is reasonably above both 50% and 52% thresholds."
   ]
  },
  {
   "cell_type": "markdown",
   "metadata": {},
   "source": [
    "#### <span style='color:#008080'> Random forrest classifier  </span> "
   ]
  },
  {
   "cell_type": "markdown",
   "metadata": {},
   "source": [
    "Below a random forrest classifier has been run which seeks to model categorical variables."
   ]
  },
  {
   "cell_type": "code",
   "execution_count": 18,
   "metadata": {},
   "outputs": [],
   "source": [
    "y_c_train = training_sample['R1M_Usd_C']\n",
    "y_c_test = testing_sample['R1M_Usd_C']\n",
    "fit_RF_C = RandomForestClassifier( \n",
    "    n_estimators = 40,\n",
    "    criterion ='gini',\n",
    "    min_samples_split= 250,\n",
    "    bootstrap=True, \n",
    "    max_features=30,\n",
    "    max_samples=20000)\n",
    "fit_RF_C=fit_RF_C.fit(X_train, y_c_train) "
   ]
  },
  {
   "cell_type": "markdown",
   "metadata": {},
   "source": [
    "We can then assess the proportion of correct (binary) guesses."
   ]
  },
  {
   "cell_type": "code",
   "execution_count": 19,
   "metadata": {},
   "outputs": [
    {
     "name": "stdout",
     "output_type": "stream",
     "text": [
      "Hit Ratio: 0.5002563810391978\n"
     ]
    }
   ],
   "source": [
    "hitratio = np.mean(fit_RF_C.predict(X_test) == y_c_test)\n",
    "print(f'Hit Ratio: {hitratio}')"
   ]
  },
  {
   "cell_type": "markdown",
   "metadata": {},
   "source": [
    "There are two potential explanations for disappointing accuracy (beyond the possibility of very different patterns in the training and testing sets): \n",
    "\n",
    "1. The sample size, which may be too small.\n",
    "2. The number of predictors, which is set to 30, i.e., one third of the total at our disposal. (**The usual amount of predictors is $\\sqrt{p}$ and $\\frac{p}{3}$, where $p$, for classification and regression, respectively. $p$ is the amount of total features.**)"
   ]
  },
  {
   "cell_type": "markdown",
   "metadata": {},
   "source": [
    "## <span style='color:#008080'> Boosted trees: adaboost  </span> "
   ]
  },
  {
   "cell_type": "markdown",
   "metadata": {},
   "source": [
    "In boosting, it is sought to iteratively improve the model whenever a new tree is added. \n",
    "\n",
    "**Adaboost**: improves the learning process by progressively focusing on the instances that yield the largest errors."
   ]
  },
  {
   "cell_type": "markdown",
   "metadata": {},
   "source": [
    "### <span style='color:#008080'> Methodology  </span> "
   ]
  },
  {
   "cell_type": "markdown",
   "metadata": {},
   "source": [
    "**General structure of the algorithm**:\n",
    "\n",
    "- Set equal weights $w_{i} = I^{-1}$;\n",
    "- For $m = 1,\\dots, M$ do\n",
    "    1. Find a learner $l_{m}$ that minimizes the weighted loss $\\sum _{i=1}^{I}w_{i}L(l_{m}(\\mathbf{x}_{i}), \\mathbf{y}_{i})$.\n",
    "    2. Compute a learner weight\n",
    "\\begin{equation*}\n",
    "    a_{m} = f_{a}(\\mathbf{w}, l_{m}(\\mathbf{x}), \\mathbf{y});\n",
    "\\end{equation*}\n",
    "    3. Update the instance weights\n",
    "\\begin{equation*}\n",
    "    w_{i} \\leftarrow w_{i} e^{ f_{w}(l_{m}(\\mathbf{x}_{i}), \\mathbf{y}_{i}) };\n",
    "\\end{equation*}\n",
    "    4. Normalize the $w_{i}$ to sum to one;\n",
    "- The output of the instance $x_{i}$ is a simple function of $\\sum _{m=1}^{M}a_{m}l_{m}(\\mathbf{x}_{i})$\n",
    "\\begin{equation*}\n",
    "    \\tilde{y}_{i} = f_{y} \\left(\\sum _{m=1}^{M}a_{m}l_{m}(\\mathbf{x}_{i})\\right)\n",
    "\\end{equation*}"
   ]
  },
  {
   "cell_type": "markdown",
   "metadata": {},
   "source": [
    "Below is an explanation of the steps: \n",
    "- **First step**: Find a tree ($l_{m}$) that minimizes a weighted loss. *Loss function depends on application*.\n",
    "- **Second and third step**: Define the way the algorithm adapts sequentially. A property of $f_{a}$  should be that a learner that yields a smaller error should have a larger weight because it is more accurate.\n",
    "- **Third step**: Change the weights of observations; Since the models seeks to improve the learning process, $f_{w}$ is constructed to give more weight on observations for which the current model does not do a good job.\n",
    "- **Fourth step**: The final step is a scaling procedure.\n",
    "\n",
    "\n",
    "The table below shows some different functions depending on application:\n",
    "\n",
    "|                                | Bin. classification | Regression |\n",
    "|--------------------------------|---------------------|------------|\n",
    "| **Individual error**           | $ \\epsilon _{i} = \\mathbf{1}_{\\{ y_{i} \\neq  l_{m}(\\mathbf{x}_{i}) \\} }$ | $\\epsilon_i=\\frac{\\lvert \ty_i- l_m(\\textbf{x}_i) \\rvert \t}{\\underset{i}{\\max} \\lvert y_i- l_m(\\textbf{x}_i) \\rvert }$ |\n",
    "| **Weight of learner via $f_{a}$** | $f_{a} = \\log \\left(\\frac{1-\\epsilon }{\\epsilon } \\right)$ with $\\epsilon  = I^{-1} \\sum _{i=1}^{I} w_{i} \\epsilon _{i}$, | $f_{a} = \\log \\left(\\frac{1-\\epsilon }{\\epsilon } \\right)$ with $\\epsilon  = I^{-1} \\sum _{i=1}^{I} w_{i} \\epsilon _{i}$ |\n",
    "| **Weight of instances via $f_{w}(i)$** |  $f_{w} = f_{a}\\epsilon _{i}$ | $f_{w} = f_{a}\\epsilon _{i}$ |\n",
    "| **Output function via $f_{y}$** | $f_{y}(x) = \\mathrm{sign}(x)$ | weighted median of predictions |\n"
   ]
  },
  {
   "cell_type": "markdown",
   "metadata": {},
   "source": [
    "#### <span style='color:#008080'> Adaboost specification  </span> "
   ]
  },
  {
   "cell_type": "markdown",
   "metadata": {},
   "source": [
    "This is the binary classifier.\n",
    "\n",
    "- **Basic error term**: $\\boldsymbol{\\epsilon}_i = \\mathbf{1}_{\\{ y_i \\neq l_m(\\mathbf{x}_i ) \\}} \\in [-1, +1]$. A dummy variable indicating if prediction is correct. \n",
    "- **Weight of error**: $a_m = \\log((1-\\epsilon)/\\epsilon)$. The avg. error $\\epsilon \\in [0,1]$, is a weighted average of individual errors. The avg. error is used is used to calculate the weight of $m$'th learner (given by $a_m$).\n",
    "    - $x \\mapsto \\log((1-x)x^{-1})$ decreases on $[0,1]$, switches sign at $x=\\frac{1}{2}$.\n",
    "    - When avg. error is small, learner has large positive weight, and when error becomes large, the learner obtains negative weight.\n",
    "- **Change in instance weights**: New weight is proportional to $w_i ((1-\\epsilon)/(\\epsilon))^{\\epsilon_i}$.\n",
    "    - Correct prediction: Then $\\epsilon_i = 0$, and weight is unchanged.\n",
    "    - Wrong prediction:  Then $\\epsilon_i = 1$, and weight is adjusted depending on average error of learner. \n",
    "        - When the learner is efficient ($\\epsilon<\\frac{1}{2}$), then $(1-\\epsilon)/\\epsilon > 1$, and instance weight is increased. Next round; more focus on instance $i$.\n",
    "        - When learner is inefficient, ($\\epsilon>\\frac{1}{2}$), then $(1-\\epsilon)/\\epsilon > 1$ and instance weight is decreased. Next round; less focus on instance $i$.\n",
    "\n",
    "- **Model predictions**: Prediction corresponds to sign of weighted sums of individual learners ($l_m$).\n",
    "    - Positive sum: If the sum is positive, then the prediction will be positive.\n",
    "    - Negative sum: If the sum is negative, then the prediction will be negative.\n",
    "    - Zero sum: The odds of the sum being zero are negligible.\n"
   ]
  },
  {
   "cell_type": "markdown",
   "metadata": {},
   "source": [
    "### <span style='color:#008080'> Instance weighing  </span>  "
   ]
  },
  {
   "cell_type": "markdown",
   "metadata": {},
   "source": [
    "Two ways.\n",
    "\n",
    "1. Works at the **level of loss functions**.\n",
    "    1. **Regression trees**: The previous equation for $V_N^{(k)}(c^{(k)})$ generalizes to (an instance with a large weight would contribute more to the dispersion of the cluster)\n",
    "    $$\n",
    "    V_N^{(k)}(c^{(k)}, \\mathbf{w}) = \\sum_{x_i^{(k)} < c^{(k)}} w_i (y_i - m_N^{k,-}(c^{(k)}))^{2} + \\sum_{x_i^{(k)} > c^{(k)}} w_i (y_i - m_N^{k,+}(c^{(k)}))^{2}\n",
    "    $$\n",
    "    2. **Regression trees**: Beyond the scope of this book.\n",
    "2. **Random sampling**: If instances have weights $w_i$, then the training of learners can be performed over a sample that is randomly extracted with distribution equal to $w_i$. An instance with a large weight has more chances to be represented in training sample. This was used in original adaboost."
   ]
  },
  {
   "cell_type": "markdown",
   "metadata": {},
   "source": [
    "### <span style='color:#008080'> Illustration  </span> "
   ]
  },
  {
   "cell_type": "markdown",
   "metadata": {},
   "source": [
    "Below an implementation of original adaboost classifier. Label: `R1M_Usd_C`.\n",
    "\n",
    "*Computationally costly $\\rightarrow$ smaller sample*."
   ]
  },
  {
   "cell_type": "code",
   "execution_count": 20,
   "metadata": {},
   "outputs": [
    {
     "data": {
      "text/html": [
       "<style>#sk-container-id-1 {\n",
       "  /* Definition of color scheme common for light and dark mode */\n",
       "  --sklearn-color-text: #000;\n",
       "  --sklearn-color-text-muted: #666;\n",
       "  --sklearn-color-line: gray;\n",
       "  /* Definition of color scheme for unfitted estimators */\n",
       "  --sklearn-color-unfitted-level-0: #fff5e6;\n",
       "  --sklearn-color-unfitted-level-1: #f6e4d2;\n",
       "  --sklearn-color-unfitted-level-2: #ffe0b3;\n",
       "  --sklearn-color-unfitted-level-3: chocolate;\n",
       "  /* Definition of color scheme for fitted estimators */\n",
       "  --sklearn-color-fitted-level-0: #f0f8ff;\n",
       "  --sklearn-color-fitted-level-1: #d4ebff;\n",
       "  --sklearn-color-fitted-level-2: #b3dbfd;\n",
       "  --sklearn-color-fitted-level-3: cornflowerblue;\n",
       "\n",
       "  /* Specific color for light theme */\n",
       "  --sklearn-color-text-on-default-background: var(--sg-text-color, var(--theme-code-foreground, var(--jp-content-font-color1, black)));\n",
       "  --sklearn-color-background: var(--sg-background-color, var(--theme-background, var(--jp-layout-color0, white)));\n",
       "  --sklearn-color-border-box: var(--sg-text-color, var(--theme-code-foreground, var(--jp-content-font-color1, black)));\n",
       "  --sklearn-color-icon: #696969;\n",
       "\n",
       "  @media (prefers-color-scheme: dark) {\n",
       "    /* Redefinition of color scheme for dark theme */\n",
       "    --sklearn-color-text-on-default-background: var(--sg-text-color, var(--theme-code-foreground, var(--jp-content-font-color1, white)));\n",
       "    --sklearn-color-background: var(--sg-background-color, var(--theme-background, var(--jp-layout-color0, #111)));\n",
       "    --sklearn-color-border-box: var(--sg-text-color, var(--theme-code-foreground, var(--jp-content-font-color1, white)));\n",
       "    --sklearn-color-icon: #878787;\n",
       "  }\n",
       "}\n",
       "\n",
       "#sk-container-id-1 {\n",
       "  color: var(--sklearn-color-text);\n",
       "}\n",
       "\n",
       "#sk-container-id-1 pre {\n",
       "  padding: 0;\n",
       "}\n",
       "\n",
       "#sk-container-id-1 input.sk-hidden--visually {\n",
       "  border: 0;\n",
       "  clip: rect(1px 1px 1px 1px);\n",
       "  clip: rect(1px, 1px, 1px, 1px);\n",
       "  height: 1px;\n",
       "  margin: -1px;\n",
       "  overflow: hidden;\n",
       "  padding: 0;\n",
       "  position: absolute;\n",
       "  width: 1px;\n",
       "}\n",
       "\n",
       "#sk-container-id-1 div.sk-dashed-wrapped {\n",
       "  border: 1px dashed var(--sklearn-color-line);\n",
       "  margin: 0 0.4em 0.5em 0.4em;\n",
       "  box-sizing: border-box;\n",
       "  padding-bottom: 0.4em;\n",
       "  background-color: var(--sklearn-color-background);\n",
       "}\n",
       "\n",
       "#sk-container-id-1 div.sk-container {\n",
       "  /* jupyter's `normalize.less` sets `[hidden] { display: none; }`\n",
       "     but bootstrap.min.css set `[hidden] { display: none !important; }`\n",
       "     so we also need the `!important` here to be able to override the\n",
       "     default hidden behavior on the sphinx rendered scikit-learn.org.\n",
       "     See: https://github.com/scikit-learn/scikit-learn/issues/21755 */\n",
       "  display: inline-block !important;\n",
       "  position: relative;\n",
       "}\n",
       "\n",
       "#sk-container-id-1 div.sk-text-repr-fallback {\n",
       "  display: none;\n",
       "}\n",
       "\n",
       "div.sk-parallel-item,\n",
       "div.sk-serial,\n",
       "div.sk-item {\n",
       "  /* draw centered vertical line to link estimators */\n",
       "  background-image: linear-gradient(var(--sklearn-color-text-on-default-background), var(--sklearn-color-text-on-default-background));\n",
       "  background-size: 2px 100%;\n",
       "  background-repeat: no-repeat;\n",
       "  background-position: center center;\n",
       "}\n",
       "\n",
       "/* Parallel-specific style estimator block */\n",
       "\n",
       "#sk-container-id-1 div.sk-parallel-item::after {\n",
       "  content: \"\";\n",
       "  width: 100%;\n",
       "  border-bottom: 2px solid var(--sklearn-color-text-on-default-background);\n",
       "  flex-grow: 1;\n",
       "}\n",
       "\n",
       "#sk-container-id-1 div.sk-parallel {\n",
       "  display: flex;\n",
       "  align-items: stretch;\n",
       "  justify-content: center;\n",
       "  background-color: var(--sklearn-color-background);\n",
       "  position: relative;\n",
       "}\n",
       "\n",
       "#sk-container-id-1 div.sk-parallel-item {\n",
       "  display: flex;\n",
       "  flex-direction: column;\n",
       "}\n",
       "\n",
       "#sk-container-id-1 div.sk-parallel-item:first-child::after {\n",
       "  align-self: flex-end;\n",
       "  width: 50%;\n",
       "}\n",
       "\n",
       "#sk-container-id-1 div.sk-parallel-item:last-child::after {\n",
       "  align-self: flex-start;\n",
       "  width: 50%;\n",
       "}\n",
       "\n",
       "#sk-container-id-1 div.sk-parallel-item:only-child::after {\n",
       "  width: 0;\n",
       "}\n",
       "\n",
       "/* Serial-specific style estimator block */\n",
       "\n",
       "#sk-container-id-1 div.sk-serial {\n",
       "  display: flex;\n",
       "  flex-direction: column;\n",
       "  align-items: center;\n",
       "  background-color: var(--sklearn-color-background);\n",
       "  padding-right: 1em;\n",
       "  padding-left: 1em;\n",
       "}\n",
       "\n",
       "\n",
       "/* Toggleable style: style used for estimator/Pipeline/ColumnTransformer box that is\n",
       "clickable and can be expanded/collapsed.\n",
       "- Pipeline and ColumnTransformer use this feature and define the default style\n",
       "- Estimators will overwrite some part of the style using the `sk-estimator` class\n",
       "*/\n",
       "\n",
       "/* Pipeline and ColumnTransformer style (default) */\n",
       "\n",
       "#sk-container-id-1 div.sk-toggleable {\n",
       "  /* Default theme specific background. It is overwritten whether we have a\n",
       "  specific estimator or a Pipeline/ColumnTransformer */\n",
       "  background-color: var(--sklearn-color-background);\n",
       "}\n",
       "\n",
       "/* Toggleable label */\n",
       "#sk-container-id-1 label.sk-toggleable__label {\n",
       "  cursor: pointer;\n",
       "  display: flex;\n",
       "  width: 100%;\n",
       "  margin-bottom: 0;\n",
       "  padding: 0.5em;\n",
       "  box-sizing: border-box;\n",
       "  text-align: center;\n",
       "  align-items: start;\n",
       "  justify-content: space-between;\n",
       "  gap: 0.5em;\n",
       "}\n",
       "\n",
       "#sk-container-id-1 label.sk-toggleable__label .caption {\n",
       "  font-size: 0.6rem;\n",
       "  font-weight: lighter;\n",
       "  color: var(--sklearn-color-text-muted);\n",
       "}\n",
       "\n",
       "#sk-container-id-1 label.sk-toggleable__label-arrow:before {\n",
       "  /* Arrow on the left of the label */\n",
       "  content: \"▸\";\n",
       "  float: left;\n",
       "  margin-right: 0.25em;\n",
       "  color: var(--sklearn-color-icon);\n",
       "}\n",
       "\n",
       "#sk-container-id-1 label.sk-toggleable__label-arrow:hover:before {\n",
       "  color: var(--sklearn-color-text);\n",
       "}\n",
       "\n",
       "/* Toggleable content - dropdown */\n",
       "\n",
       "#sk-container-id-1 div.sk-toggleable__content {\n",
       "  max-height: 0;\n",
       "  max-width: 0;\n",
       "  overflow: hidden;\n",
       "  text-align: left;\n",
       "  /* unfitted */\n",
       "  background-color: var(--sklearn-color-unfitted-level-0);\n",
       "}\n",
       "\n",
       "#sk-container-id-1 div.sk-toggleable__content.fitted {\n",
       "  /* fitted */\n",
       "  background-color: var(--sklearn-color-fitted-level-0);\n",
       "}\n",
       "\n",
       "#sk-container-id-1 div.sk-toggleable__content pre {\n",
       "  margin: 0.2em;\n",
       "  border-radius: 0.25em;\n",
       "  color: var(--sklearn-color-text);\n",
       "  /* unfitted */\n",
       "  background-color: var(--sklearn-color-unfitted-level-0);\n",
       "}\n",
       "\n",
       "#sk-container-id-1 div.sk-toggleable__content.fitted pre {\n",
       "  /* unfitted */\n",
       "  background-color: var(--sklearn-color-fitted-level-0);\n",
       "}\n",
       "\n",
       "#sk-container-id-1 input.sk-toggleable__control:checked~div.sk-toggleable__content {\n",
       "  /* Expand drop-down */\n",
       "  max-height: 200px;\n",
       "  max-width: 100%;\n",
       "  overflow: auto;\n",
       "}\n",
       "\n",
       "#sk-container-id-1 input.sk-toggleable__control:checked~label.sk-toggleable__label-arrow:before {\n",
       "  content: \"▾\";\n",
       "}\n",
       "\n",
       "/* Pipeline/ColumnTransformer-specific style */\n",
       "\n",
       "#sk-container-id-1 div.sk-label input.sk-toggleable__control:checked~label.sk-toggleable__label {\n",
       "  color: var(--sklearn-color-text);\n",
       "  background-color: var(--sklearn-color-unfitted-level-2);\n",
       "}\n",
       "\n",
       "#sk-container-id-1 div.sk-label.fitted input.sk-toggleable__control:checked~label.sk-toggleable__label {\n",
       "  background-color: var(--sklearn-color-fitted-level-2);\n",
       "}\n",
       "\n",
       "/* Estimator-specific style */\n",
       "\n",
       "/* Colorize estimator box */\n",
       "#sk-container-id-1 div.sk-estimator input.sk-toggleable__control:checked~label.sk-toggleable__label {\n",
       "  /* unfitted */\n",
       "  background-color: var(--sklearn-color-unfitted-level-2);\n",
       "}\n",
       "\n",
       "#sk-container-id-1 div.sk-estimator.fitted input.sk-toggleable__control:checked~label.sk-toggleable__label {\n",
       "  /* fitted */\n",
       "  background-color: var(--sklearn-color-fitted-level-2);\n",
       "}\n",
       "\n",
       "#sk-container-id-1 div.sk-label label.sk-toggleable__label,\n",
       "#sk-container-id-1 div.sk-label label {\n",
       "  /* The background is the default theme color */\n",
       "  color: var(--sklearn-color-text-on-default-background);\n",
       "}\n",
       "\n",
       "/* On hover, darken the color of the background */\n",
       "#sk-container-id-1 div.sk-label:hover label.sk-toggleable__label {\n",
       "  color: var(--sklearn-color-text);\n",
       "  background-color: var(--sklearn-color-unfitted-level-2);\n",
       "}\n",
       "\n",
       "/* Label box, darken color on hover, fitted */\n",
       "#sk-container-id-1 div.sk-label.fitted:hover label.sk-toggleable__label.fitted {\n",
       "  color: var(--sklearn-color-text);\n",
       "  background-color: var(--sklearn-color-fitted-level-2);\n",
       "}\n",
       "\n",
       "/* Estimator label */\n",
       "\n",
       "#sk-container-id-1 div.sk-label label {\n",
       "  font-family: monospace;\n",
       "  font-weight: bold;\n",
       "  display: inline-block;\n",
       "  line-height: 1.2em;\n",
       "}\n",
       "\n",
       "#sk-container-id-1 div.sk-label-container {\n",
       "  text-align: center;\n",
       "}\n",
       "\n",
       "/* Estimator-specific */\n",
       "#sk-container-id-1 div.sk-estimator {\n",
       "  font-family: monospace;\n",
       "  border: 1px dotted var(--sklearn-color-border-box);\n",
       "  border-radius: 0.25em;\n",
       "  box-sizing: border-box;\n",
       "  margin-bottom: 0.5em;\n",
       "  /* unfitted */\n",
       "  background-color: var(--sklearn-color-unfitted-level-0);\n",
       "}\n",
       "\n",
       "#sk-container-id-1 div.sk-estimator.fitted {\n",
       "  /* fitted */\n",
       "  background-color: var(--sklearn-color-fitted-level-0);\n",
       "}\n",
       "\n",
       "/* on hover */\n",
       "#sk-container-id-1 div.sk-estimator:hover {\n",
       "  /* unfitted */\n",
       "  background-color: var(--sklearn-color-unfitted-level-2);\n",
       "}\n",
       "\n",
       "#sk-container-id-1 div.sk-estimator.fitted:hover {\n",
       "  /* fitted */\n",
       "  background-color: var(--sklearn-color-fitted-level-2);\n",
       "}\n",
       "\n",
       "/* Specification for estimator info (e.g. \"i\" and \"?\") */\n",
       "\n",
       "/* Common style for \"i\" and \"?\" */\n",
       "\n",
       ".sk-estimator-doc-link,\n",
       "a:link.sk-estimator-doc-link,\n",
       "a:visited.sk-estimator-doc-link {\n",
       "  float: right;\n",
       "  font-size: smaller;\n",
       "  line-height: 1em;\n",
       "  font-family: monospace;\n",
       "  background-color: var(--sklearn-color-background);\n",
       "  border-radius: 1em;\n",
       "  height: 1em;\n",
       "  width: 1em;\n",
       "  text-decoration: none !important;\n",
       "  margin-left: 0.5em;\n",
       "  text-align: center;\n",
       "  /* unfitted */\n",
       "  border: var(--sklearn-color-unfitted-level-1) 1pt solid;\n",
       "  color: var(--sklearn-color-unfitted-level-1);\n",
       "}\n",
       "\n",
       ".sk-estimator-doc-link.fitted,\n",
       "a:link.sk-estimator-doc-link.fitted,\n",
       "a:visited.sk-estimator-doc-link.fitted {\n",
       "  /* fitted */\n",
       "  border: var(--sklearn-color-fitted-level-1) 1pt solid;\n",
       "  color: var(--sklearn-color-fitted-level-1);\n",
       "}\n",
       "\n",
       "/* On hover */\n",
       "div.sk-estimator:hover .sk-estimator-doc-link:hover,\n",
       ".sk-estimator-doc-link:hover,\n",
       "div.sk-label-container:hover .sk-estimator-doc-link:hover,\n",
       ".sk-estimator-doc-link:hover {\n",
       "  /* unfitted */\n",
       "  background-color: var(--sklearn-color-unfitted-level-3);\n",
       "  color: var(--sklearn-color-background);\n",
       "  text-decoration: none;\n",
       "}\n",
       "\n",
       "div.sk-estimator.fitted:hover .sk-estimator-doc-link.fitted:hover,\n",
       ".sk-estimator-doc-link.fitted:hover,\n",
       "div.sk-label-container:hover .sk-estimator-doc-link.fitted:hover,\n",
       ".sk-estimator-doc-link.fitted:hover {\n",
       "  /* fitted */\n",
       "  background-color: var(--sklearn-color-fitted-level-3);\n",
       "  color: var(--sklearn-color-background);\n",
       "  text-decoration: none;\n",
       "}\n",
       "\n",
       "/* Span, style for the box shown on hovering the info icon */\n",
       ".sk-estimator-doc-link span {\n",
       "  display: none;\n",
       "  z-index: 9999;\n",
       "  position: relative;\n",
       "  font-weight: normal;\n",
       "  right: .2ex;\n",
       "  padding: .5ex;\n",
       "  margin: .5ex;\n",
       "  width: min-content;\n",
       "  min-width: 20ex;\n",
       "  max-width: 50ex;\n",
       "  color: var(--sklearn-color-text);\n",
       "  box-shadow: 2pt 2pt 4pt #999;\n",
       "  /* unfitted */\n",
       "  background: var(--sklearn-color-unfitted-level-0);\n",
       "  border: .5pt solid var(--sklearn-color-unfitted-level-3);\n",
       "}\n",
       "\n",
       ".sk-estimator-doc-link.fitted span {\n",
       "  /* fitted */\n",
       "  background: var(--sklearn-color-fitted-level-0);\n",
       "  border: var(--sklearn-color-fitted-level-3);\n",
       "}\n",
       "\n",
       ".sk-estimator-doc-link:hover span {\n",
       "  display: block;\n",
       "}\n",
       "\n",
       "/* \"?\"-specific style due to the `<a>` HTML tag */\n",
       "\n",
       "#sk-container-id-1 a.estimator_doc_link {\n",
       "  float: right;\n",
       "  font-size: 1rem;\n",
       "  line-height: 1em;\n",
       "  font-family: monospace;\n",
       "  background-color: var(--sklearn-color-background);\n",
       "  border-radius: 1rem;\n",
       "  height: 1rem;\n",
       "  width: 1rem;\n",
       "  text-decoration: none;\n",
       "  /* unfitted */\n",
       "  color: var(--sklearn-color-unfitted-level-1);\n",
       "  border: var(--sklearn-color-unfitted-level-1) 1pt solid;\n",
       "}\n",
       "\n",
       "#sk-container-id-1 a.estimator_doc_link.fitted {\n",
       "  /* fitted */\n",
       "  border: var(--sklearn-color-fitted-level-1) 1pt solid;\n",
       "  color: var(--sklearn-color-fitted-level-1);\n",
       "}\n",
       "\n",
       "/* On hover */\n",
       "#sk-container-id-1 a.estimator_doc_link:hover {\n",
       "  /* unfitted */\n",
       "  background-color: var(--sklearn-color-unfitted-level-3);\n",
       "  color: var(--sklearn-color-background);\n",
       "  text-decoration: none;\n",
       "}\n",
       "\n",
       "#sk-container-id-1 a.estimator_doc_link.fitted:hover {\n",
       "  /* fitted */\n",
       "  background-color: var(--sklearn-color-fitted-level-3);\n",
       "}\n",
       "</style><div id=\"sk-container-id-1\" class=\"sk-top-container\"><div class=\"sk-text-repr-fallback\"><pre>AdaBoostClassifier(estimator=DecisionTreeClassifier(max_depth=3),\n",
       "                   n_estimators=3)</pre><b>In a Jupyter environment, please rerun this cell to show the HTML representation or trust the notebook. <br />On GitHub, the HTML representation is unable to render, please try loading this page with nbviewer.org.</b></div><div class=\"sk-container\" hidden><div class=\"sk-item sk-dashed-wrapped\"><div class=\"sk-label-container\"><div class=\"sk-label fitted sk-toggleable\"><input class=\"sk-toggleable__control sk-hidden--visually\" id=\"sk-estimator-id-1\" type=\"checkbox\" ><label for=\"sk-estimator-id-1\" class=\"sk-toggleable__label fitted sk-toggleable__label-arrow\"><div><div>AdaBoostClassifier</div></div><div><a class=\"sk-estimator-doc-link fitted\" rel=\"noreferrer\" target=\"_blank\" href=\"https://scikit-learn.org/1.6/modules/generated/sklearn.ensemble.AdaBoostClassifier.html\">?<span>Documentation for AdaBoostClassifier</span></a><span class=\"sk-estimator-doc-link fitted\">i<span>Fitted</span></span></div></label><div class=\"sk-toggleable__content fitted\"><pre>AdaBoostClassifier(estimator=DecisionTreeClassifier(max_depth=3),\n",
       "                   n_estimators=3)</pre></div> </div></div><div class=\"sk-parallel\"><div class=\"sk-parallel-item\"><div class=\"sk-item\"><div class=\"sk-label-container\"><div class=\"sk-label fitted sk-toggleable\"><input class=\"sk-toggleable__control sk-hidden--visually\" id=\"sk-estimator-id-2\" type=\"checkbox\" ><label for=\"sk-estimator-id-2\" class=\"sk-toggleable__label fitted sk-toggleable__label-arrow\"><div><div>estimator: DecisionTreeClassifier</div></div></label><div class=\"sk-toggleable__content fitted\"><pre>DecisionTreeClassifier(max_depth=3)</pre></div> </div></div><div class=\"sk-serial\"><div class=\"sk-item\"><div class=\"sk-estimator fitted sk-toggleable\"><input class=\"sk-toggleable__control sk-hidden--visually\" id=\"sk-estimator-id-3\" type=\"checkbox\" ><label for=\"sk-estimator-id-3\" class=\"sk-toggleable__label fitted sk-toggleable__label-arrow\"><div><div>DecisionTreeClassifier</div></div><div><a class=\"sk-estimator-doc-link fitted\" rel=\"noreferrer\" target=\"_blank\" href=\"https://scikit-learn.org/1.6/modules/generated/sklearn.tree.DecisionTreeClassifier.html\">?<span>Documentation for DecisionTreeClassifier</span></a></div></label><div class=\"sk-toggleable__content fitted\"><pre>DecisionTreeClassifier(max_depth=3)</pre></div> </div></div></div></div></div></div></div></div></div>"
      ],
      "text/plain": [
       "AdaBoostClassifier(estimator=DecisionTreeClassifier(max_depth=3),\n",
       "                   n_estimators=3)"
      ]
     },
     "execution_count": 20,
     "metadata": {},
     "output_type": "execute_result"
    }
   ],
   "source": [
    "# Define model\n",
    "fit_adaboost_C = AdaBoostClassifier(\n",
    "    DecisionTreeClassifier(\n",
    "        max_depth = 3\n",
    "    ),\n",
    "    n_estimators = 3\n",
    ")\n",
    "\n",
    "# Fit model\n",
    "fit_adaboost_C.fit(X_train, y_c_train)"
   ]
  },
  {
   "cell_type": "markdown",
   "metadata": {},
   "source": [
    "The performance of the classifier is shown below."
   ]
  },
  {
   "cell_type": "code",
   "execution_count": 21,
   "metadata": {},
   "outputs": [
    {
     "name": "stdout",
     "output_type": "stream",
     "text": [
      "Hit ratio: 0.5007548997265269\n"
     ]
    }
   ],
   "source": [
    "# Calculate hitratio on test labels with train features\n",
    "hitratio = accuracy_score(y_c_test, fit_adaboost_C.predict(X_test))\n",
    "\n",
    "# Print hit ratio\n",
    "print(f\"Hit ratio: {hitratio}\")"
   ]
  },
  {
   "cell_type": "markdown",
   "metadata": {},
   "source": [
    "The model is clearly not good enough. Might be due to restrictions set on parameters (to limit runtime)."
   ]
  },
  {
   "cell_type": "markdown",
   "metadata": {},
   "source": [
    "## <span style='color:#008080'> Boosted trees: extreme gradient boosting  </span> "
   ]
  },
  {
   "cell_type": "markdown",
   "metadata": {},
   "source": [
    "The combination of learners is optimized/adapted at the learner level.\n",
    "\n",
    "At each step $s$, the sum of models $M_S = \\sum^{S-1}_{s=1} m_s + m_S$ is such that the last learner, $m_S$, was designed to reduce the loss of $M_S$ on the training sample.\n",
    "\n",
    "**XGBoost seeks to minimize the objective**:\n",
    "$$\n",
    "O = \\underbrace{\\sum_{i=1}^{I} \\mathrm{loss}(y_i, \\tilde{y}_i)}_{\\text{error term}} + \\underbrace{\\sum_{j=1}^{J}\\Omega(T_j)}_{\\text{regularisation term}}\n",
    "$$\n",
    "\n",
    "The first term (*over all instances*) measures distance from true label to prediction by model. The second term (*over all trees*) penalizes models that are too complex.\n",
    "\n",
    "Assume that $\\mathrm{loss}(y, \\tilde{y}) = (y - \\tilde{y}^{2})$ in the following."
   ]
  },
  {
   "cell_type": "markdown",
   "metadata": {},
   "source": [
    "### <span style='color:#008080'> Managing loss  </span> "
   ]
  },
  {
   "cell_type": "markdown",
   "metadata": {},
   "source": [
    "Assume that all trees $T_j$ are built for $j = 1, \\ldots , J-1$ (hence model $m_{j-1}$). Too choose the optimal tree $T_J$ rewrite\n",
    "\\begin{align*}\n",
    "    O & = \\sum_{i=1}^{I} (y_i - m_{J-1}(\\mathbf{x}_i)^{2} - T_J(\\mathbf{x}_i))^{2} + \\sum_{j=1}^{J}\\Omega(T_j) \\\\\n",
    "      & = \\sum_{i=1}^{I} \\{ y_i^{2}+m_{J-1}(\\mathbf{x}_i)^{2} + T_{J}(\\mathbf{x}_i)^{2} \\} \\sum_{j=1}^{J-1}\\Omega(T_j) + \\Omega(T_J) \\quad (\\text{squares terms} + \\text{penalization})\\\\\n",
    "      & - 2 \\sum_{i=1}^{I} \\{ y_im_{J-1}(\\mathbf{x}_i) + y_iT_J (\\mathbf{x}_i) - m_{J-1}(\\mathbf{x}_i)T_j(\\mathbf{x}_i) \\} \\\\\n",
    "      & = \\sum_{i=1}^{I} \\{ -2 y_i T_J (\\mathbf{x}_i) + 2 m_{J-1}(\\mathbf{x}_i) T_J (\\mathbf{x}_i) + T_J (\\mathbf{x}_i)^{2} \\} + \\Omega(T_J) + c\n",
    "\\end{align*}\n",
    "\n",
    "Terms know at $J$ (indexed by $J-1$) vanish into a constant $c$, as they do not enter the optimization.\n",
    "\n",
    "*For more complex loss function Taylor expansions are used*"
   ]
  },
  {
   "cell_type": "markdown",
   "metadata": {},
   "source": [
    "### <span style='color:#008080'> Penalization  </span> "
   ]
  },
  {
   "cell_type": "markdown",
   "metadata": {},
   "source": [
    "A given tree $T$ has structure $T(x) = w_{q(x)}$:\n",
    "- $w$: output value of some leaf. \n",
    "- $q(\\cdot)$: maps an input onto its final leaf.\n",
    "\n",
    "See book for illustration. \n",
    "\n",
    "<br>\n",
    "\n",
    "Let $l = 1, \\ldots ,L$ be the indices of the leaves of a tree. **XGBoost defines complexity** as \n",
    "$$\n",
    "\\Omega(T) = \\gamma L + \\frac{\\lambda}{2} \\sum_{l=1}^{L} w_l^{2}\n",
    "$$\n",
    "- First term: total number of leaves; \n",
    "- Second term: penalizes magnitude out output values (this reduces variance).\n",
    "\n",
    "First terms reduces the dept of a tree, and second reduces the size of adjustments that will come from the latest tree."
   ]
  },
  {
   "cell_type": "markdown",
   "metadata": {},
   "source": [
    "### <span style='color:#008080'> Aggregation  </span> "
   ]
  },
  {
   "cell_type": "markdown",
   "metadata": {},
   "source": [
    "We aggregate loss and penalization in the objective. Let $I_l$ be the set of indices of the instances belonging to leaf $l$. Then,\n",
    "\\begin{align*}\n",
    "    O & = 2 \\sum_{i=1}^{I} \\{ -y_i T_J(\\mathbf{x}_i) + m_{J-1}(\\mathbf{x}_i) T_J(\\mathbf{x}_i) + \\frac{T_J(\\mathbf{x}_i)^{2}}{2} \\} + \\gamma L + \\frac{\\lambda}{2} \\sum_{l=1}^{L}w_l^{2} \\\\\n",
    "    & = 2 \\sum_{i=1}^{I} \\{ -y_i w_{q(\\mathbf{x}_i)} + m_{J-1}(\\mathbf{x}_i) w_{q(\\mathbf{x}_i)} + \\frac{w_{q(\\mathbf{x}_i)}^{2}}{2} \\} + \\gamma L + \\frac{\\lambda}{2} \\sum_{l=1}^{L}w_l^{2} \\\\\n",
    "    & = 2 \\sum_{l=1}^{L} \\left( w_l \\sum_{i \\in I_l}(- y_i + m_{J-1}(\\mathbf{x}_i)) + \\frac{w^{2}_l}{2} \\sum_{i \\in I_l}(1  + \\frac{\\lambda}{2}) \\right) + \\gamma L\n",
    "\\end{align*}\n",
    "\n",
    "The above has form $a w_l + \\frac{b}{2} w_l^{2}$, which has minimum values $- \\frac{a^{2}}{2b}$ at $w_l = -\\frac{a}{b}$. So \n",
    "\\begin{gather*}\n",
    "    \\rightarrow w_l^{*} = \\frac{\\sum_{i \\in I_l} (y_i - m_{J-1}(\\mathbf{x}_i))}{(1 + \\frac{\\lambda}{2}) \\# \\{ i \\in I_l \\}} \\quad \\implies \\\\\n",
    "    O_{L}(q) = \\frac{1}{2} \\sum_{l=1}^{L} \\frac{(\\sum_{i \\in  I_l}(y_i - m_{J-1}(\\mathbf{x}_i)))^{2}}{(1 + \\frac{\\lambda}{2}) \\# \\{ i \\in I_l \\}} + \\gamma L\n",
    "\\end{gather*}"
   ]
  },
  {
   "cell_type": "markdown",
   "metadata": {},
   "source": [
    "### <span style='color:#008080'> Tree structure  </span> "
   ]
  },
  {
   "cell_type": "markdown",
   "metadata": {},
   "source": [
    "The growing of the iterative trees follows similar lines as simple trees. Features must be tested in order to pick the one that minimizes the objective for each given split. \n",
    "\n",
    "**Best depth and when to stop growing the tree**: The method is to\n",
    "- proceed node-by-node;\n",
    "- for each node, look at whether a split is useful (in terms of objective) or not:\n",
    "$$\n",
    "\\mathrm{Gain} = \\frac{1}{2}(\\mathrm{Gain}_L + \\mathrm{Gain}_R - \\mathrm{Gain}_O) - \\gamma\n",
    "$$\n",
    "- each gain is computed with respect to the instances in each bucket (cluster):\n",
    "$$\n",
    "\\mathrm{Gain}_{\\chi} = \\frac{(\\sum_{i \\in I_{\\chi}}(y_i - m_{J-1})(\\mathbf{x}_i))^{2}}{(1 + \\frac{\\lambda}{2}) \\# \\{ i \\in I_{\\chi} \\}}\n",
    "$$\n",
    "- $I_{\\chi}$: Set of instances within cluster $\\chi$.\n",
    "- $\\mathrm{Gain}_O$: The original gain (no split)\n",
    "- $\\mathrm{Gain}_R$ and $\\mathrm{Gain}_L$: Gain of right and left clusters.\n",
    "- $-\\gamma$: there is one unit of new leaves per iteration (two new minus one old); makes a one leaf difference $\\Delta L = 1$, and the penalization for each new leaf if $\\gamma$.\n",
    "- Leaning rate, $\\eta$: Each tree is scales by $\\eta \\in (0,1]$. After each new step of boosting the new tree $T_J$ sees its values discounted with $\\eta$. (Useful since pure aggregation of many trees leads to overfitting)."
   ]
  },
  {
   "cell_type": "markdown",
   "metadata": {},
   "source": [
    "### <span style='color:#008080'> Extensions  </span> "
   ]
  },
  {
   "cell_type": "markdown",
   "metadata": {},
   "source": [
    "These are features to avoid overfitting.\n",
    "- **Dropout**: Omit a specified number of trees during training. The trees that are removed from the model are chosen randomly.\n",
    "- **Monotonicity constraints**: Featured both in xgboost and lightgbm. Sometimes, it is expected that one particular feature has a monotonic impact on the label."
   ]
  },
  {
   "cell_type": "markdown",
   "metadata": {},
   "source": [
    "### <span style='color:#008080'> Code and results  </span> "
   ]
  },
  {
   "cell_type": "markdown",
   "metadata": {},
   "source": [
    "The XGBoost function requires a particular syntax and dedicated formats. The first step is thus to encapsulate the data accordingly.\n",
    "\n",
    "Because training times can be long the training sample is shortened: Retain 40% of extreme observations (20% top and 20% bottom) and work with a small subset of features (7)."
   ]
  },
  {
   "cell_type": "code",
   "execution_count": 22,
   "metadata": {},
   "outputs": [],
   "source": [
    "# Define extreme values\n",
    "xgb_bool = (training_sample[\"R1M_Usd\"] < np.quantile(training_sample[\"R1M_Usd\"], 0.2)) | (training_sample[\"R1M_Usd\"] > np.quantile(training_sample[\"R1M_Usd\"], 0.8))\n",
    "\n",
    "# Select training features (7) with extreme values\n",
    "train_features_xgb = training_sample.loc[xgb_bool, :][features_short]\n",
    "\n",
    "# Select training labels with extreme values\n",
    "train_label_xgb = training_sample.loc[xgb_bool, :][[\"R1M_Usd\"]]"
   ]
  },
  {
   "cell_type": "markdown",
   "metadata": {},
   "source": [
    "Below we define monotonicity constraints: \n",
    "- market capitalization (negative, because large firms have smaller returns under the size anomaly); \n",
    "- price-to-book ratio (negative, because overvalued firms also have smaller returns under the value anomaly); \n",
    "- past annual returns (positive, because winners outperform losers under the momentum anomaly)."
   ]
  },
  {
   "cell_type": "code",
   "execution_count": 23,
   "metadata": {},
   "outputs": [],
   "source": [
    "mono_const = [0 for _ in range(len(features_short))]\n",
    "mono_const[features_short.index('Mkt_Cap_12M_Usd')] = -1\n",
    "mono_const[features_short.index('Pb')] = -1\n",
    "mono_const[features_short.index('Mom_11M_Usd')] = 1 "
   ]
  },
  {
   "cell_type": "markdown",
   "metadata": {},
   "source": [
    "The XGBoost model is defined and fitted below."
   ]
  },
  {
   "cell_type": "code",
   "execution_count": 24,
   "metadata": {},
   "outputs": [
    {
     "data": {
      "text/html": [
       "<style>#sk-container-id-2 {\n",
       "  /* Definition of color scheme common for light and dark mode */\n",
       "  --sklearn-color-text: #000;\n",
       "  --sklearn-color-text-muted: #666;\n",
       "  --sklearn-color-line: gray;\n",
       "  /* Definition of color scheme for unfitted estimators */\n",
       "  --sklearn-color-unfitted-level-0: #fff5e6;\n",
       "  --sklearn-color-unfitted-level-1: #f6e4d2;\n",
       "  --sklearn-color-unfitted-level-2: #ffe0b3;\n",
       "  --sklearn-color-unfitted-level-3: chocolate;\n",
       "  /* Definition of color scheme for fitted estimators */\n",
       "  --sklearn-color-fitted-level-0: #f0f8ff;\n",
       "  --sklearn-color-fitted-level-1: #d4ebff;\n",
       "  --sklearn-color-fitted-level-2: #b3dbfd;\n",
       "  --sklearn-color-fitted-level-3: cornflowerblue;\n",
       "\n",
       "  /* Specific color for light theme */\n",
       "  --sklearn-color-text-on-default-background: var(--sg-text-color, var(--theme-code-foreground, var(--jp-content-font-color1, black)));\n",
       "  --sklearn-color-background: var(--sg-background-color, var(--theme-background, var(--jp-layout-color0, white)));\n",
       "  --sklearn-color-border-box: var(--sg-text-color, var(--theme-code-foreground, var(--jp-content-font-color1, black)));\n",
       "  --sklearn-color-icon: #696969;\n",
       "\n",
       "  @media (prefers-color-scheme: dark) {\n",
       "    /* Redefinition of color scheme for dark theme */\n",
       "    --sklearn-color-text-on-default-background: var(--sg-text-color, var(--theme-code-foreground, var(--jp-content-font-color1, white)));\n",
       "    --sklearn-color-background: var(--sg-background-color, var(--theme-background, var(--jp-layout-color0, #111)));\n",
       "    --sklearn-color-border-box: var(--sg-text-color, var(--theme-code-foreground, var(--jp-content-font-color1, white)));\n",
       "    --sklearn-color-icon: #878787;\n",
       "  }\n",
       "}\n",
       "\n",
       "#sk-container-id-2 {\n",
       "  color: var(--sklearn-color-text);\n",
       "}\n",
       "\n",
       "#sk-container-id-2 pre {\n",
       "  padding: 0;\n",
       "}\n",
       "\n",
       "#sk-container-id-2 input.sk-hidden--visually {\n",
       "  border: 0;\n",
       "  clip: rect(1px 1px 1px 1px);\n",
       "  clip: rect(1px, 1px, 1px, 1px);\n",
       "  height: 1px;\n",
       "  margin: -1px;\n",
       "  overflow: hidden;\n",
       "  padding: 0;\n",
       "  position: absolute;\n",
       "  width: 1px;\n",
       "}\n",
       "\n",
       "#sk-container-id-2 div.sk-dashed-wrapped {\n",
       "  border: 1px dashed var(--sklearn-color-line);\n",
       "  margin: 0 0.4em 0.5em 0.4em;\n",
       "  box-sizing: border-box;\n",
       "  padding-bottom: 0.4em;\n",
       "  background-color: var(--sklearn-color-background);\n",
       "}\n",
       "\n",
       "#sk-container-id-2 div.sk-container {\n",
       "  /* jupyter's `normalize.less` sets `[hidden] { display: none; }`\n",
       "     but bootstrap.min.css set `[hidden] { display: none !important; }`\n",
       "     so we also need the `!important` here to be able to override the\n",
       "     default hidden behavior on the sphinx rendered scikit-learn.org.\n",
       "     See: https://github.com/scikit-learn/scikit-learn/issues/21755 */\n",
       "  display: inline-block !important;\n",
       "  position: relative;\n",
       "}\n",
       "\n",
       "#sk-container-id-2 div.sk-text-repr-fallback {\n",
       "  display: none;\n",
       "}\n",
       "\n",
       "div.sk-parallel-item,\n",
       "div.sk-serial,\n",
       "div.sk-item {\n",
       "  /* draw centered vertical line to link estimators */\n",
       "  background-image: linear-gradient(var(--sklearn-color-text-on-default-background), var(--sklearn-color-text-on-default-background));\n",
       "  background-size: 2px 100%;\n",
       "  background-repeat: no-repeat;\n",
       "  background-position: center center;\n",
       "}\n",
       "\n",
       "/* Parallel-specific style estimator block */\n",
       "\n",
       "#sk-container-id-2 div.sk-parallel-item::after {\n",
       "  content: \"\";\n",
       "  width: 100%;\n",
       "  border-bottom: 2px solid var(--sklearn-color-text-on-default-background);\n",
       "  flex-grow: 1;\n",
       "}\n",
       "\n",
       "#sk-container-id-2 div.sk-parallel {\n",
       "  display: flex;\n",
       "  align-items: stretch;\n",
       "  justify-content: center;\n",
       "  background-color: var(--sklearn-color-background);\n",
       "  position: relative;\n",
       "}\n",
       "\n",
       "#sk-container-id-2 div.sk-parallel-item {\n",
       "  display: flex;\n",
       "  flex-direction: column;\n",
       "}\n",
       "\n",
       "#sk-container-id-2 div.sk-parallel-item:first-child::after {\n",
       "  align-self: flex-end;\n",
       "  width: 50%;\n",
       "}\n",
       "\n",
       "#sk-container-id-2 div.sk-parallel-item:last-child::after {\n",
       "  align-self: flex-start;\n",
       "  width: 50%;\n",
       "}\n",
       "\n",
       "#sk-container-id-2 div.sk-parallel-item:only-child::after {\n",
       "  width: 0;\n",
       "}\n",
       "\n",
       "/* Serial-specific style estimator block */\n",
       "\n",
       "#sk-container-id-2 div.sk-serial {\n",
       "  display: flex;\n",
       "  flex-direction: column;\n",
       "  align-items: center;\n",
       "  background-color: var(--sklearn-color-background);\n",
       "  padding-right: 1em;\n",
       "  padding-left: 1em;\n",
       "}\n",
       "\n",
       "\n",
       "/* Toggleable style: style used for estimator/Pipeline/ColumnTransformer box that is\n",
       "clickable and can be expanded/collapsed.\n",
       "- Pipeline and ColumnTransformer use this feature and define the default style\n",
       "- Estimators will overwrite some part of the style using the `sk-estimator` class\n",
       "*/\n",
       "\n",
       "/* Pipeline and ColumnTransformer style (default) */\n",
       "\n",
       "#sk-container-id-2 div.sk-toggleable {\n",
       "  /* Default theme specific background. It is overwritten whether we have a\n",
       "  specific estimator or a Pipeline/ColumnTransformer */\n",
       "  background-color: var(--sklearn-color-background);\n",
       "}\n",
       "\n",
       "/* Toggleable label */\n",
       "#sk-container-id-2 label.sk-toggleable__label {\n",
       "  cursor: pointer;\n",
       "  display: flex;\n",
       "  width: 100%;\n",
       "  margin-bottom: 0;\n",
       "  padding: 0.5em;\n",
       "  box-sizing: border-box;\n",
       "  text-align: center;\n",
       "  align-items: start;\n",
       "  justify-content: space-between;\n",
       "  gap: 0.5em;\n",
       "}\n",
       "\n",
       "#sk-container-id-2 label.sk-toggleable__label .caption {\n",
       "  font-size: 0.6rem;\n",
       "  font-weight: lighter;\n",
       "  color: var(--sklearn-color-text-muted);\n",
       "}\n",
       "\n",
       "#sk-container-id-2 label.sk-toggleable__label-arrow:before {\n",
       "  /* Arrow on the left of the label */\n",
       "  content: \"▸\";\n",
       "  float: left;\n",
       "  margin-right: 0.25em;\n",
       "  color: var(--sklearn-color-icon);\n",
       "}\n",
       "\n",
       "#sk-container-id-2 label.sk-toggleable__label-arrow:hover:before {\n",
       "  color: var(--sklearn-color-text);\n",
       "}\n",
       "\n",
       "/* Toggleable content - dropdown */\n",
       "\n",
       "#sk-container-id-2 div.sk-toggleable__content {\n",
       "  max-height: 0;\n",
       "  max-width: 0;\n",
       "  overflow: hidden;\n",
       "  text-align: left;\n",
       "  /* unfitted */\n",
       "  background-color: var(--sklearn-color-unfitted-level-0);\n",
       "}\n",
       "\n",
       "#sk-container-id-2 div.sk-toggleable__content.fitted {\n",
       "  /* fitted */\n",
       "  background-color: var(--sklearn-color-fitted-level-0);\n",
       "}\n",
       "\n",
       "#sk-container-id-2 div.sk-toggleable__content pre {\n",
       "  margin: 0.2em;\n",
       "  border-radius: 0.25em;\n",
       "  color: var(--sklearn-color-text);\n",
       "  /* unfitted */\n",
       "  background-color: var(--sklearn-color-unfitted-level-0);\n",
       "}\n",
       "\n",
       "#sk-container-id-2 div.sk-toggleable__content.fitted pre {\n",
       "  /* unfitted */\n",
       "  background-color: var(--sklearn-color-fitted-level-0);\n",
       "}\n",
       "\n",
       "#sk-container-id-2 input.sk-toggleable__control:checked~div.sk-toggleable__content {\n",
       "  /* Expand drop-down */\n",
       "  max-height: 200px;\n",
       "  max-width: 100%;\n",
       "  overflow: auto;\n",
       "}\n",
       "\n",
       "#sk-container-id-2 input.sk-toggleable__control:checked~label.sk-toggleable__label-arrow:before {\n",
       "  content: \"▾\";\n",
       "}\n",
       "\n",
       "/* Pipeline/ColumnTransformer-specific style */\n",
       "\n",
       "#sk-container-id-2 div.sk-label input.sk-toggleable__control:checked~label.sk-toggleable__label {\n",
       "  color: var(--sklearn-color-text);\n",
       "  background-color: var(--sklearn-color-unfitted-level-2);\n",
       "}\n",
       "\n",
       "#sk-container-id-2 div.sk-label.fitted input.sk-toggleable__control:checked~label.sk-toggleable__label {\n",
       "  background-color: var(--sklearn-color-fitted-level-2);\n",
       "}\n",
       "\n",
       "/* Estimator-specific style */\n",
       "\n",
       "/* Colorize estimator box */\n",
       "#sk-container-id-2 div.sk-estimator input.sk-toggleable__control:checked~label.sk-toggleable__label {\n",
       "  /* unfitted */\n",
       "  background-color: var(--sklearn-color-unfitted-level-2);\n",
       "}\n",
       "\n",
       "#sk-container-id-2 div.sk-estimator.fitted input.sk-toggleable__control:checked~label.sk-toggleable__label {\n",
       "  /* fitted */\n",
       "  background-color: var(--sklearn-color-fitted-level-2);\n",
       "}\n",
       "\n",
       "#sk-container-id-2 div.sk-label label.sk-toggleable__label,\n",
       "#sk-container-id-2 div.sk-label label {\n",
       "  /* The background is the default theme color */\n",
       "  color: var(--sklearn-color-text-on-default-background);\n",
       "}\n",
       "\n",
       "/* On hover, darken the color of the background */\n",
       "#sk-container-id-2 div.sk-label:hover label.sk-toggleable__label {\n",
       "  color: var(--sklearn-color-text);\n",
       "  background-color: var(--sklearn-color-unfitted-level-2);\n",
       "}\n",
       "\n",
       "/* Label box, darken color on hover, fitted */\n",
       "#sk-container-id-2 div.sk-label.fitted:hover label.sk-toggleable__label.fitted {\n",
       "  color: var(--sklearn-color-text);\n",
       "  background-color: var(--sklearn-color-fitted-level-2);\n",
       "}\n",
       "\n",
       "/* Estimator label */\n",
       "\n",
       "#sk-container-id-2 div.sk-label label {\n",
       "  font-family: monospace;\n",
       "  font-weight: bold;\n",
       "  display: inline-block;\n",
       "  line-height: 1.2em;\n",
       "}\n",
       "\n",
       "#sk-container-id-2 div.sk-label-container {\n",
       "  text-align: center;\n",
       "}\n",
       "\n",
       "/* Estimator-specific */\n",
       "#sk-container-id-2 div.sk-estimator {\n",
       "  font-family: monospace;\n",
       "  border: 1px dotted var(--sklearn-color-border-box);\n",
       "  border-radius: 0.25em;\n",
       "  box-sizing: border-box;\n",
       "  margin-bottom: 0.5em;\n",
       "  /* unfitted */\n",
       "  background-color: var(--sklearn-color-unfitted-level-0);\n",
       "}\n",
       "\n",
       "#sk-container-id-2 div.sk-estimator.fitted {\n",
       "  /* fitted */\n",
       "  background-color: var(--sklearn-color-fitted-level-0);\n",
       "}\n",
       "\n",
       "/* on hover */\n",
       "#sk-container-id-2 div.sk-estimator:hover {\n",
       "  /* unfitted */\n",
       "  background-color: var(--sklearn-color-unfitted-level-2);\n",
       "}\n",
       "\n",
       "#sk-container-id-2 div.sk-estimator.fitted:hover {\n",
       "  /* fitted */\n",
       "  background-color: var(--sklearn-color-fitted-level-2);\n",
       "}\n",
       "\n",
       "/* Specification for estimator info (e.g. \"i\" and \"?\") */\n",
       "\n",
       "/* Common style for \"i\" and \"?\" */\n",
       "\n",
       ".sk-estimator-doc-link,\n",
       "a:link.sk-estimator-doc-link,\n",
       "a:visited.sk-estimator-doc-link {\n",
       "  float: right;\n",
       "  font-size: smaller;\n",
       "  line-height: 1em;\n",
       "  font-family: monospace;\n",
       "  background-color: var(--sklearn-color-background);\n",
       "  border-radius: 1em;\n",
       "  height: 1em;\n",
       "  width: 1em;\n",
       "  text-decoration: none !important;\n",
       "  margin-left: 0.5em;\n",
       "  text-align: center;\n",
       "  /* unfitted */\n",
       "  border: var(--sklearn-color-unfitted-level-1) 1pt solid;\n",
       "  color: var(--sklearn-color-unfitted-level-1);\n",
       "}\n",
       "\n",
       ".sk-estimator-doc-link.fitted,\n",
       "a:link.sk-estimator-doc-link.fitted,\n",
       "a:visited.sk-estimator-doc-link.fitted {\n",
       "  /* fitted */\n",
       "  border: var(--sklearn-color-fitted-level-1) 1pt solid;\n",
       "  color: var(--sklearn-color-fitted-level-1);\n",
       "}\n",
       "\n",
       "/* On hover */\n",
       "div.sk-estimator:hover .sk-estimator-doc-link:hover,\n",
       ".sk-estimator-doc-link:hover,\n",
       "div.sk-label-container:hover .sk-estimator-doc-link:hover,\n",
       ".sk-estimator-doc-link:hover {\n",
       "  /* unfitted */\n",
       "  background-color: var(--sklearn-color-unfitted-level-3);\n",
       "  color: var(--sklearn-color-background);\n",
       "  text-decoration: none;\n",
       "}\n",
       "\n",
       "div.sk-estimator.fitted:hover .sk-estimator-doc-link.fitted:hover,\n",
       ".sk-estimator-doc-link.fitted:hover,\n",
       "div.sk-label-container:hover .sk-estimator-doc-link.fitted:hover,\n",
       ".sk-estimator-doc-link.fitted:hover {\n",
       "  /* fitted */\n",
       "  background-color: var(--sklearn-color-fitted-level-3);\n",
       "  color: var(--sklearn-color-background);\n",
       "  text-decoration: none;\n",
       "}\n",
       "\n",
       "/* Span, style for the box shown on hovering the info icon */\n",
       ".sk-estimator-doc-link span {\n",
       "  display: none;\n",
       "  z-index: 9999;\n",
       "  position: relative;\n",
       "  font-weight: normal;\n",
       "  right: .2ex;\n",
       "  padding: .5ex;\n",
       "  margin: .5ex;\n",
       "  width: min-content;\n",
       "  min-width: 20ex;\n",
       "  max-width: 50ex;\n",
       "  color: var(--sklearn-color-text);\n",
       "  box-shadow: 2pt 2pt 4pt #999;\n",
       "  /* unfitted */\n",
       "  background: var(--sklearn-color-unfitted-level-0);\n",
       "  border: .5pt solid var(--sklearn-color-unfitted-level-3);\n",
       "}\n",
       "\n",
       ".sk-estimator-doc-link.fitted span {\n",
       "  /* fitted */\n",
       "  background: var(--sklearn-color-fitted-level-0);\n",
       "  border: var(--sklearn-color-fitted-level-3);\n",
       "}\n",
       "\n",
       ".sk-estimator-doc-link:hover span {\n",
       "  display: block;\n",
       "}\n",
       "\n",
       "/* \"?\"-specific style due to the `<a>` HTML tag */\n",
       "\n",
       "#sk-container-id-2 a.estimator_doc_link {\n",
       "  float: right;\n",
       "  font-size: 1rem;\n",
       "  line-height: 1em;\n",
       "  font-family: monospace;\n",
       "  background-color: var(--sklearn-color-background);\n",
       "  border-radius: 1rem;\n",
       "  height: 1rem;\n",
       "  width: 1rem;\n",
       "  text-decoration: none;\n",
       "  /* unfitted */\n",
       "  color: var(--sklearn-color-unfitted-level-1);\n",
       "  border: var(--sklearn-color-unfitted-level-1) 1pt solid;\n",
       "}\n",
       "\n",
       "#sk-container-id-2 a.estimator_doc_link.fitted {\n",
       "  /* fitted */\n",
       "  border: var(--sklearn-color-fitted-level-1) 1pt solid;\n",
       "  color: var(--sklearn-color-fitted-level-1);\n",
       "}\n",
       "\n",
       "/* On hover */\n",
       "#sk-container-id-2 a.estimator_doc_link:hover {\n",
       "  /* unfitted */\n",
       "  background-color: var(--sklearn-color-unfitted-level-3);\n",
       "  color: var(--sklearn-color-background);\n",
       "  text-decoration: none;\n",
       "}\n",
       "\n",
       "#sk-container-id-2 a.estimator_doc_link.fitted:hover {\n",
       "  /* fitted */\n",
       "  background-color: var(--sklearn-color-fitted-level-3);\n",
       "}\n",
       "</style><div id=\"sk-container-id-2\" class=\"sk-top-container\"><div class=\"sk-text-repr-fallback\"><pre>XGBRegressor(base_score=None, booster=None, callbacks=None,\n",
       "             colsample_bylevel=None, colsample_bynode=None,\n",
       "             colsample_bytree=0.7, device=None, early_stopping_rounds=None,\n",
       "             enable_categorical=False, eval_metric=None, feature_types=None,\n",
       "             gamma=0.1, grow_policy=None, importance_type=None,\n",
       "             interaction_constraints=None, learning_rate=0.3, max_bin=None,\n",
       "             max_cat_threshold=None, max_cat_to_onehot=None,\n",
       "             max_delta_step=None, max_depth=4, max_leaves=None,\n",
       "             min_child_weight=None, missing=nan,\n",
       "             monotone_constraints=&#x27;(0, 0, -1, 1, 0, -1, 0)&#x27;,\n",
       "             multi_strategy=None, n_estimators=30, n_jobs=None,\n",
       "             num_parallel_tree=None, random_state=None, ...)</pre><b>In a Jupyter environment, please rerun this cell to show the HTML representation or trust the notebook. <br />On GitHub, the HTML representation is unable to render, please try loading this page with nbviewer.org.</b></div><div class=\"sk-container\" hidden><div class=\"sk-item\"><div class=\"sk-estimator fitted sk-toggleable\"><input class=\"sk-toggleable__control sk-hidden--visually\" id=\"sk-estimator-id-4\" type=\"checkbox\" checked><label for=\"sk-estimator-id-4\" class=\"sk-toggleable__label fitted sk-toggleable__label-arrow\"><div><div>XGBRegressor</div></div><div><span class=\"sk-estimator-doc-link fitted\">i<span>Fitted</span></span></div></label><div class=\"sk-toggleable__content fitted\"><pre>XGBRegressor(base_score=None, booster=None, callbacks=None,\n",
       "             colsample_bylevel=None, colsample_bynode=None,\n",
       "             colsample_bytree=0.7, device=None, early_stopping_rounds=None,\n",
       "             enable_categorical=False, eval_metric=None, feature_types=None,\n",
       "             gamma=0.1, grow_policy=None, importance_type=None,\n",
       "             interaction_constraints=None, learning_rate=0.3, max_bin=None,\n",
       "             max_cat_threshold=None, max_cat_to_onehot=None,\n",
       "             max_delta_step=None, max_depth=4, max_leaves=None,\n",
       "             min_child_weight=None, missing=nan,\n",
       "             monotone_constraints=&#x27;(0, 0, -1, 1, 0, -1, 0)&#x27;,\n",
       "             multi_strategy=None, n_estimators=30, n_jobs=None,\n",
       "             num_parallel_tree=None, random_state=None, ...)</pre></div> </div></div></div></div>"
      ],
      "text/plain": [
       "XGBRegressor(base_score=None, booster=None, callbacks=None,\n",
       "             colsample_bylevel=None, colsample_bynode=None,\n",
       "             colsample_bytree=0.7, device=None, early_stopping_rounds=None,\n",
       "             enable_categorical=False, eval_metric=None, feature_types=None,\n",
       "             gamma=0.1, grow_policy=None, importance_type=None,\n",
       "             interaction_constraints=None, learning_rate=0.3, max_bin=None,\n",
       "             max_cat_threshold=None, max_cat_to_onehot=None,\n",
       "             max_delta_step=None, max_depth=4, max_leaves=None,\n",
       "             min_child_weight=None, missing=nan,\n",
       "             monotone_constraints='(0, 0, -1, 1, 0, -1, 0)',\n",
       "             multi_strategy=None, n_estimators=30, n_jobs=None,\n",
       "             num_parallel_tree=None, random_state=None, ...)"
      ]
     },
     "execution_count": 24,
     "metadata": {},
     "output_type": "execute_result"
    }
   ],
   "source": [
    "fit_xgb = xgb.XGBRegressor(\n",
    "    n_estimators=30, \n",
    "    max_depth=4, \n",
    "    learning_rate=0.3, \n",
    "    objective='reg:squarederror', \n",
    "    subsample=0.6, \n",
    "    colsample_bytree=0.7, \n",
    "    gamma=0.1, \n",
    "    reg_lambda=1,\n",
    "    monotone_constraints = str(tuple(mono_const)),\n",
    "    training=True, \n",
    "    rate_drop=0.1, \n",
    "    verbose=0\n",
    ")\n",
    "\n",
    "fit_xgb.fit(train_features_xgb, train_label_xgb)"
   ]
  },
  {
   "cell_type": "markdown",
   "metadata": {},
   "source": [
    "We now evaluate the MSE and hit ratio"
   ]
  },
  {
   "cell_type": "code",
   "execution_count": 25,
   "metadata": {},
   "outputs": [
    {
     "name": "stdout",
     "output_type": "stream",
     "text": [
      "MSE: 0.03819667631064758\n",
      "Hitratio: 0.4993163172288058\n"
     ]
    }
   ],
   "source": [
    "MSE_xgb = np.mean(np.square(fit_xgb.predict(testing_sample[features_short]) - testing_sample['R1M_Usd'].values)) \n",
    "hitratio = np.mean(fit_xgb.predict(testing_sample[features_short]) * testing_sample[['R1M_Usd']].values.ravel() > 0)\n",
    "\n",
    "print(f'MSE: {MSE_xgb}')\n",
    "print(f'Hitratio: {hitratio}')"
   ]
  },
  {
   "cell_type": "markdown",
   "metadata": {},
   "source": [
    "The model is not as good as the one specified in the book. Not sure why."
   ]
  }
 ],
 "metadata": {
  "kernelspec": {
   "display_name": "bachelor_venv",
   "language": "python",
   "name": "python3"
  },
  "language_info": {
   "codemirror_mode": {
    "name": "ipython",
    "version": 3
   },
   "file_extension": ".py",
   "mimetype": "text/x-python",
   "name": "python",
   "nbconvert_exporter": "python",
   "pygments_lexer": "ipython3",
   "version": "3.11.11"
  }
 },
 "nbformat": 4,
 "nbformat_minor": 2
}
